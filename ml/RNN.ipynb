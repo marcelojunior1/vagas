{
 "cells": [
  {
   "metadata": {},
   "cell_type": "markdown",
   "source": "## Bibliotecas",
   "id": "ea83d4a4113fdbd5"
  },
  {
   "metadata": {
    "ExecuteTime": {
     "end_time": "2024-07-28T23:06:26.617262Z",
     "start_time": "2024-07-28T23:06:26.613772Z"
    }
   },
   "cell_type": "code",
   "source": [
    "import tensorflow as tf\n",
    "import matplotlib.pyplot as plt\n",
    "\n",
    "from keras.utils import pad_sequences\n",
    "from keras.models import Sequential\n",
    "from keras.layers import Embedding, SimpleRNN, Dense\n",
    "\n",
    "import urllib.request, json\n",
    "import numpy as np\n"
   ],
   "id": "initial_id",
   "outputs": [],
   "execution_count": 38
  },
  {
   "metadata": {
    "ExecuteTime": {
     "end_time": "2024-07-28T23:06:26.656477Z",
     "start_time": "2024-07-28T23:06:26.653440Z"
    }
   },
   "cell_type": "code",
   "source": [
    "gpus = tf.config.experimental.list_physical_devices('GPU')\n",
    "for gpu in gpus:\n",
    "    tf.config.experimental.set_memory_growth(gpu, True)"
   ],
   "id": "54a8193151016ba7",
   "outputs": [],
   "execution_count": 39
  },
  {
   "metadata": {},
   "cell_type": "markdown",
   "source": "## Dados",
   "id": "8fdef90b397954ee"
  },
  {
   "metadata": {
    "ExecuteTime": {
     "end_time": "2024-07-28T23:06:28.246893Z",
     "start_time": "2024-07-28T23:06:26.657973Z"
    }
   },
   "cell_type": "code",
   "source": [
    "res = urllib.request.urlopen(\"http://127.0.0.1:8000/api/vagas/\")\n",
    "data = json.loads(res.read())\n",
    "vagas = data['data']"
   ],
   "id": "b318f0289652794d",
   "outputs": [],
   "execution_count": 40
  },
  {
   "metadata": {},
   "cell_type": "markdown",
   "source": "## Tratamento dos dados",
   "id": "b5e1edf37f6b2a99"
  },
  {
   "metadata": {
    "ExecuteTime": {
     "end_time": "2024-07-28T23:06:28.260831Z",
     "start_time": "2024-07-28T23:06:28.248177Z"
    }
   },
   "cell_type": "code",
   "source": [
    "max_sequence=0\n",
    "\n",
    "words = []\n",
    "y = []\n",
    "\n",
    "for vaga in vagas:\n",
    "    words.append(vaga['tokens'])\n",
    "    y = y + [int(vaga['isApplied'])]\n",
    "\n",
    "char_set = ['<pad>'] \n",
    "\n",
    "w = set()\n",
    "for tokenList in words:\n",
    "    for token in tokenList:\n",
    "        w.add(token)\n",
    "char_set += list(w)\n",
    "char_set += ['<_unknown>']\n",
    "char2idx = {char:idx for idx, char in enumerate(char_set)}\n",
    "\n",
    "json_str = json.dumps(char2idx, ensure_ascii=False)\n",
    "json_str = json.loads(json_str)\n",
    "with open('char2idx.json', 'w', encoding='utf-8') as json_file:\n",
    "    json.dump(json_str, json_file, ensure_ascii=False)\n",
    "\n",
    "X = list(map(lambda word: [char2idx.get(char) for char in word], words))\n",
    "max_sequence = max(list(map(lambda word: len(word), X)))\n",
    "X = pad_sequences(X, maxlen=max_sequence, padding='post', truncating='post')"
   ],
   "id": "f8fac4481d3f16a4",
   "outputs": [],
   "execution_count": 41
  },
  {
   "metadata": {},
   "cell_type": "markdown",
   "source": "## Modelo",
   "id": "f9c50be555e1cee7"
  },
  {
   "metadata": {
    "ExecuteTime": {
     "end_time": "2024-07-28T23:06:28.369263Z",
     "start_time": "2024-07-28T23:06:28.261951Z"
    }
   },
   "cell_type": "code",
   "source": [
    "buffer_size = len(vagas)\n",
    "batch_size = 32\n",
    "\n",
    "train_ds = tf.data.Dataset.from_tensor_slices((X, y)).shuffle(buffer_size=buffer_size).batch(batch_size=batch_size)\n",
    "\n",
    "\n",
    "input_dim = len(char2idx)\n",
    "output_dim = len(char2idx)\n",
    "\n",
    "\n",
    "model = Sequential([\n",
    "    Embedding(input_dim=input_dim, output_dim=output_dim,\n",
    "              mask_zero=True, trainable=False, embeddings_initializer=tf.keras.initializers.random_normal()),\n",
    "    SimpleRNN(units=10),\n",
    "    Dense(2)\n",
    "])\n",
    "\n",
    "model.summary()\n",
    "\n"
   ],
   "id": "90da5ac1fd06fa5b",
   "outputs": [
    {
     "name": "stdout",
     "output_type": "stream",
     "text": [
      "Model: \"sequential_4\"\n",
      "_________________________________________________________________\n",
      " Layer (type)                Output Shape              Param #   \n",
      "=================================================================\n",
      " embedding_4 (Embedding)     (None, None, 801)         641601    \n",
      "                                                                 \n",
      " simple_rnn_4 (SimpleRNN)    (None, 10)                8120      \n",
      "                                                                 \n",
      " dense_4 (Dense)             (None, 2)                 22        \n",
      "                                                                 \n",
      "=================================================================\n",
      "Total params: 649743 (2.48 MB)\n",
      "Trainable params: 8142 (31.80 KB)\n",
      "Non-trainable params: 641601 (2.45 MB)\n",
      "_________________________________________________________________\n"
     ]
    }
   ],
   "execution_count": 42
  },
  {
   "metadata": {},
   "cell_type": "markdown",
   "source": "## Treinamento",
   "id": "78009372b47241d2"
  },
  {
   "metadata": {
    "ExecuteTime": {
     "end_time": "2024-07-28T23:06:45.320845Z",
     "start_time": "2024-07-28T23:06:28.371381Z"
    }
   },
   "cell_type": "code",
   "source": [
    "def loss_fn(model, X, y):\n",
    "    return tf.reduce_mean(tf.keras.losses.sparse_categorical_crossentropy(y_true=y, \n",
    "                                                                          y_pred=model(X), \n",
    "                                                                          from_logits=True))\n",
    "\n",
    "optimizer = tf.keras.optimizers.Adam(learning_rate=0.01)\n",
    "epoch = 10\n",
    "tr_loss_hist = []\n",
    "\n",
    "for e in range(epoch):\n",
    "    avg_tr_loss = 0\n",
    "    tr_step = 0\n",
    "    \n",
    "    for x_mb, y_mb in train_ds:\n",
    "        with tf.GradientTape() as tape:\n",
    "            tr_loss = loss_fn(model, x_mb, y_mb)\n",
    "            \n",
    "        grads = tape.gradient(tr_loss, sources=model.variables)\n",
    "        optimizer.apply_gradients(grads_and_vars=zip(grads, model.variables))\n",
    "        avg_tr_loss += tr_loss\n",
    "        tr_step += 1\n",
    "    \n",
    "    avg_tr_loss /= tr_step\n",
    "    tr_loss_hist.append(avg_tr_loss)\n",
    "    \n",
    "plt.figure()\n",
    "plt.plot(tr_loss_hist)\n",
    "plt.show()"
   ],
   "id": "af5524b7aba0b6c7",
   "outputs": [
    {
     "data": {
      "text/plain": [
       "<Figure size 640x480 with 1 Axes>"
      ],
      "image/png": "[encoded data removed]"
     },
     "metadata": {},
     "output_type": "display_data"
    }
   ],
   "execution_count": 43
  },
  {
   "metadata": {},
   "cell_type": "markdown",
   "source": "## Inferencia",
   "id": "3ca65c5bc659927"
  },
  {
   "metadata": {},
   "cell_type": "markdown",
   "source": "",
   "id": "abe27cafa7755340"
  },
  {
   "metadata": {
    "ExecuteTime": {
     "end_time": "2024-07-28T23:08:37.943382Z",
     "start_time": "2024-07-28T23:08:37.765799Z"
    }
   },
   "cell_type": "code",
   "source": [
    "exemple = [\n",
    "    [\"analista\", \"desenvolvedor\", \"remoto\"]\n",
    "]\n",
    "\n",
    "UNKNOWN_IDX = (len(char_set) - 1)\n",
    "novoX = list(map(lambda word: [char2idx.get(char) or UNKNOWN_IDX for char in word], exemple))\n",
    "novoX = pad_sequences(novoX, maxlen=max_sequence, padding='post', truncating='post')\n",
    "y_pred = model.predict(novoX)\n",
    "print(y_pred)\n",
    "print('acc: {:.2%}'.format(np.mean(y_pred)))\n"
   ],
   "id": "bd2a41bba77bf19f",
   "outputs": [
    {
     "name": "stdout",
     "output_type": "stream",
     "text": [
      "1/1 [==============================] - 0s 29ms/step\n",
      "[[ 1.5235343 -1.7540929]]\n",
      "acc: -11.53%\n"
     ]
    }
   ],
   "execution_count": 49
  },
  {
   "metadata": {
    "ExecuteTime": {
     "end_time": "2024-07-28T23:06:45.491080Z",
     "start_time": "2024-07-28T23:06:45.488984Z"
    }
   },
   "cell_type": "code",
   "source": "",
   "id": "e9815979a9c74fc9",
   "outputs": [],
   "execution_count": 46
  }
 ],
 "metadata": {
  "kernelspec": {
   "display_name": "Python 3",
   "language": "python",
   "name": "python3"
  },
  "language_info": {
   "codemirror_mode": {
    "name": "ipython",
    "version": 2
   },
   "file_extension": ".py",
   "mimetype": "text/x-python",
   "name": "python",
   "nbconvert_exporter": "python",
   "pygments_lexer": "ipython2",
   "version": "2.7.6"
  }
 },
 "nbformat": 4,
 "nbformat_minor": 5
}
