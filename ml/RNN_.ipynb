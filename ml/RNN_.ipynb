{
 "cells": [
  {
   "metadata": {},
   "cell_type": "markdown",
   "source": "## Bibliotecas",
   "id": "ea83d4a4113fdbd5"
  },
  {
   "metadata": {
    "ExecuteTime": {
     "end_time": "2024-07-29T01:35:04.159242Z",
     "start_time": "2024-07-29T01:35:04.155661Z"
    }
   },
   "cell_type": "code",
   "source": [
    "import tensorflow as tf\n",
    "import matplotlib.pyplot as plt\n",
    "\n",
    "from keras.utils import pad_sequences\n",
    "from keras.models import Sequential\n",
    "from keras.layers import Embedding, SimpleRNN, Dense\n",
    "\n",
    "import urllib.request, json\n",
    "import numpy as np\n",
    "from keras.src.layers import TimeDistributed, Dropout"
   ],
   "id": "initial_id",
   "outputs": [],
   "execution_count": 46
  },
  {
   "metadata": {
    "ExecuteTime": {
     "end_time": "2024-07-29T01:35:04.192935Z",
     "start_time": "2024-07-29T01:35:04.189594Z"
    }
   },
   "cell_type": "code",
   "source": [
    "gpus = tf.config.experimental.list_physical_devices('GPU')\n",
    "for gpu in gpus:\n",
    "    tf.config.experimental.set_memory_growth(gpu, True)"
   ],
   "id": "54a8193151016ba7",
   "outputs": [],
   "execution_count": 47
  },
  {
   "metadata": {},
   "cell_type": "markdown",
   "source": "## Dados",
   "id": "e85e5cf4f11cf147"
  },
  {
   "metadata": {
    "ExecuteTime": {
     "end_time": "2024-07-29T01:35:05.330077Z",
     "start_time": "2024-07-29T01:35:04.194723Z"
    }
   },
   "cell_type": "code",
   "source": [
    "res = urllib.request.urlopen(\"http://127.0.0.1:8000/api/vagas/\")\n",
    "data = json.loads(res.read())\n",
    "vagas = data['data']"
   ],
   "id": "ebda9b85df9ec6ce",
   "outputs": [],
   "execution_count": 48
  },
  {
   "metadata": {},
   "cell_type": "markdown",
   "source": "## Tratamento dos dados",
   "id": "b5e1edf37f6b2a99"
  },
  {
   "metadata": {
    "ExecuteTime": {
     "end_time": "2024-07-29T01:35:05.351665Z",
     "start_time": "2024-07-29T01:35:05.331309Z"
    }
   },
   "cell_type": "code",
   "source": [
    "sentences = []\n",
    "y = []\n",
    "\n",
    "for vaga in vagas:\n",
    "    sentences.append(vaga['txtVaga'].replace(\"\\n\", \" \").lower())\n",
    "    y.append(vaga['isApplied'])\n",
    "\n",
    "char_set = ['<pad>'] + sorted(list(set(''.join(sentences)))) + ['<_unknow']\n",
    "idx2char = {idx: char for idx, char in enumerate(char_set)}\n",
    "char2idx = {char: idx for idx, char in enumerate(char_set)}\n",
    "\n",
    "json_str = json.dumps(char2idx, ensure_ascii=False)\n",
    "json_str = json.loads(json_str)\n",
    "with open('char2idx.json', 'w', encoding='utf-8') as json_file:\n",
    "    json.dump(json_str, json_file, ensure_ascii=False)\n",
    "\n",
    "X = list(map(lambda sentence: [char2idx.get(char) for char in sentence], sentences))\n",
    "max_sequence = max(list(map(lambda word: len(word), X)))\n",
    "X = pad_sequences(sequences=X, maxlen=max_sequence, padding='post', truncating='post')"
   ],
   "id": "196b4fe03d19b816",
   "outputs": [],
   "execution_count": 49
  },
  {
   "metadata": {},
   "cell_type": "markdown",
   "source": "## Modelo",
   "id": "f9c50be555e1cee7"
  },
  {
   "metadata": {
    "ExecuteTime": {
     "end_time": "2024-07-29T01:35:05.489982Z",
     "start_time": "2024-07-29T01:35:05.353259Z"
    }
   },
   "cell_type": "code",
   "source": [
    "input_dim = len(char2idx)\n",
    "output_dim = len(char2idx)\n",
    "buffer_size  = output_dim\n",
    "batch_size = 32\n",
    "\n",
    "train_ds = tf.data.Dataset.from_tensor_slices((X, y)).shuffle(buffer_size=buffer_size).batch(batch_size=batch_size)\n",
    "\n",
    "model = Sequential([\n",
    "    Embedding(input_dim=input_dim, output_dim=output_dim,\n",
    "              trainable=False, mask_zero=True, input_length=max_sequence,\n",
    "              embeddings_initializer=tf.keras.initializers.random_normal()),\n",
    "    SimpleRNN(units=10, return_sequences=True),\n",
    "    TimeDistributed(Dropout(rate=0.2)),\n",
    "    SimpleRNN(units=10),\n",
    "    Dense(units=2)\n",
    "])\n",
    "\n",
    "model.summary()\n",
    "\n"
   ],
   "id": "90da5ac1fd06fa5b",
   "outputs": [
    {
     "name": "stdout",
     "output_type": "stream",
     "text": [
      "Model: \"sequential_4\"\n",
      "_________________________________________________________________\n",
      " Layer (type)                Output Shape              Param #   \n",
      "=================================================================\n",
      " embedding_4 (Embedding)     (None, 195, 68)           4624      \n",
      "                                                                 \n",
      " simple_rnn_8 (SimpleRNN)    (None, 195, 10)           790       \n",
      "                                                                 \n",
      " time_distributed_4 (TimeDi  (None, 195, 10)           0         \n",
      " stributed)                                                      \n",
      "                                                                 \n",
      " simple_rnn_9 (SimpleRNN)    (None, 10)                210       \n",
      "                                                                 \n",
      " dense_4 (Dense)             (None, 2)                 22        \n",
      "                                                                 \n",
      "=================================================================\n",
      "Total params: 5646 (22.05 KB)\n",
      "Trainable params: 1022 (3.99 KB)\n",
      "Non-trainable params: 4624 (18.06 KB)\n",
      "_________________________________________________________________\n"
     ]
    }
   ],
   "execution_count": 50
  },
  {
   "metadata": {},
   "cell_type": "markdown",
   "source": "## Treinamento",
   "id": "929a33f949b0f4a9"
  },
  {
   "metadata": {
    "ExecuteTime": {
     "end_time": "2024-07-29T01:38:10.941988Z",
     "start_time": "2024-07-29T01:35:05.491225Z"
    }
   },
   "cell_type": "code",
   "source": [
    "def loss_fn(model, x, y):\n",
    "    return tf.reduce_mean(tf.keras.losses.sparse_categorical_crossentropy(\n",
    "        y_true=y, y_pred=model(x), from_logits=True\n",
    "    ))\n",
    "\n",
    "epoch = 8\n",
    "tr_loss_hist = []\n",
    "\n",
    "optimizer = tf.keras.optimizers.Adam(learning_rate=0.01)\n",
    "\n",
    "for e in range(epoch):\n",
    "    avg_tr_loss = 0\n",
    "    tr_step = 0\n",
    "    \n",
    "    for x_mb, y_mb in train_ds:\n",
    "        with tf.GradientTape() as tape:\n",
    "            tr_loss = loss_fn(model, x=x_mb, y=y_mb)\n",
    "        grads = tape.gradient(target=tr_loss, sources=model.trainable_variables)\n",
    "        optimizer.apply_gradients(grads_and_vars=zip(grads, model.trainable_variables))\n",
    "        avg_tr_loss += tr_loss\n",
    "        tr_step += 1\n",
    "        \n",
    "    avg_tr_loss /= tr_step\n",
    "    tr_loss_hist.append(avg_tr_loss)\n",
    "    \n",
    "plt.figure()\n",
    "plt.plot(tr_loss_hist)\n",
    "plt.title('Training loss of sentence classification')\n",
    "plt.show()"
   ],
   "id": "af5524b7aba0b6c7",
   "outputs": [
    {
     "data": {
      "text/plain": [
       "<Figure size 640x480 with 1 Axes>"
      ],
      "image/png": "[encoded data removed]"
     },
     "metadata": {},
     "output_type": "display_data"
    }
   ],
   "execution_count": 51
  },
  {
   "metadata": {},
   "cell_type": "markdown",
   "source": "## Inferencia",
   "id": "3ca65c5bc659927"
  },
  {
   "metadata": {
    "ExecuteTime": {
     "end_time": "2024-07-29T01:38:11.613102Z",
     "start_time": "2024-07-29T01:38:10.943209Z"
    }
   },
   "cell_type": "code",
   "source": [
    "prediction = model.predict(X)\n",
    "prediction = np.argmax(prediction, axis=-1)\n",
    "print('Accuracy: {:.2%}'.format(np.mean(prediction == y)))"
   ],
   "id": "bd2a41bba77bf19f",
   "outputs": [
    {
     "name": "stdout",
     "output_type": "stream",
     "text": [
      "21/21 [==============================] - 1s 19ms/step\n",
      "Accuracy: 96.68%\n"
     ]
    }
   ],
   "execution_count": 52
  },
  {
   "metadata": {
    "ExecuteTime": {
     "end_time": "2024-07-29T01:43:32.824969Z",
     "start_time": "2024-07-29T01:43:32.753184Z"
    }
   },
   "cell_type": "code",
   "source": [
    "exemples = [\n",
    "    \"desenvolvedor java júnior remoto\",\n",
    "    \"desenvolvedor(a) junior alelo novo híbrido tempo integral\"\n",
    "]\n",
    "\n",
    "newX = list(map(lambda sentence: [char2idx.get(char) for char in sentence], exemples))\n",
    "newX = pad_sequences(sequences=newX, maxlen=max_sequence, padding='post', truncating='post')\n",
    "prediction = model.predict(newX)\n",
    "print(prediction)\n",
    "prediction = np.argmax(prediction, axis=-1)\n",
    "print(prediction)"
   ],
   "id": "e22e7203132f2cb1",
   "outputs": [
    {
     "name": "stdout",
     "output_type": "stream",
     "text": [
      "1/1 [==============================] - 0s 24ms/step\n",
      "[[ 1.7447104 -1.7872877]\n",
      " [ 1.6784729 -1.6687839]]\n",
      "[0 0]\n"
     ]
    }
   ],
   "execution_count": 56
  },
  {
   "metadata": {
    "ExecuteTime": {
     "end_time": "2024-07-29T01:38:12.087444Z",
     "start_time": "2024-07-29T01:38:12.057474Z"
    }
   },
   "cell_type": "code",
   "source": "model.save('model.keras')",
   "id": "7598f320bfb7edf2",
   "outputs": [],
   "execution_count": 54
  }
 ],
 "metadata": {
  "kernelspec": {
   "display_name": "Python 3",
   "language": "python",
   "name": "python3"
  },
  "language_info": {
   "codemirror_mode": {
    "name": "ipython",
    "version": 2
   },
   "file_extension": ".py",
   "mimetype": "text/x-python",
   "name": "python",
   "nbconvert_exporter": "python",
   "pygments_lexer": "ipython2",
   "version": "2.7.6"
  }
 },
 "nbformat": 4,
 "nbformat_minor": 5
}
