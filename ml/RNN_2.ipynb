{
 "cells": [
  {
   "metadata": {
    "ExecuteTime": {
     "end_time": "2024-08-01T14:54:03.572188Z",
     "start_time": "2024-08-01T14:54:01.263380Z"
    }
   },
   "cell_type": "code",
   "source": [
    "\n",
    "from tensorflow.keras.models import Sequential\n",
    "from tensorflow.keras.layers import Dense\n",
    "from tensorflow.keras.layers import LSTM\n",
    "from tensorflow.keras.layers import Embedding\n",
    "from tensorflow.keras.preprocessing import sequence\n",
    "\n",
    "import urllib.request, json\n",
    "import numpy as np"
   ],
   "id": "a848c5a21a3af2c8",
   "outputs": [
    {
     "name": "stderr",
     "output_type": "stream",
     "text": [
      "2024-08-01 11:54:01.632575: I external/local_tsl/tsl/cuda/cudart_stub.cc:31] Could not find cuda drivers on your machine, GPU will not be used.\n",
      "2024-08-01 11:54:01.667599: E external/local_xla/xla/stream_executor/cuda/cuda_dnn.cc:9261] Unable to register cuDNN factory: Attempting to register factory for plugin cuDNN when one has already been registered\n",
      "2024-08-01 11:54:01.667624: E external/local_xla/xla/stream_executor/cuda/cuda_fft.cc:607] Unable to register cuFFT factory: Attempting to register factory for plugin cuFFT when one has already been registered\n",
      "2024-08-01 11:54:01.668675: E external/local_xla/xla/stream_executor/cuda/cuda_blas.cc:1515] Unable to register cuBLAS factory: Attempting to register factory for plugin cuBLAS when one has already been registered\n",
      "2024-08-01 11:54:01.675279: I external/local_tsl/tsl/cuda/cudart_stub.cc:31] Could not find cuda drivers on your machine, GPU will not be used.\n",
      "2024-08-01 11:54:01.675761: I tensorflow/core/platform/cpu_feature_guard.cc:182] This TensorFlow binary is optimized to use available CPU instructions in performance-critical operations.\n",
      "To enable the following instructions: AVX2 FMA, in other operations, rebuild TensorFlow with the appropriate compiler flags.\n",
      "2024-08-01 11:54:02.579423: W tensorflow/compiler/tf2tensorrt/utils/py_utils.cc:38] TF-TRT Warning: Could not find TensorRT\n"
     ]
    }
   ],
   "execution_count": 1
  },
  {
   "metadata": {
    "ExecuteTime": {
     "end_time": "2024-08-01T14:54:04.013872Z",
     "start_time": "2024-08-01T14:54:03.574570Z"
    }
   },
   "cell_type": "code",
   "source": [
    "res = urllib.request.urlopen(\"http://127.0.0.1:8000/api/vagas?treinamento=true\")\n",
    "data = json.loads(res.read())\n",
    "train_vagas_data = data['train']\n",
    "test_vagas_data = data['test']\n",
    "\n",
    "train_X = []\n",
    "y_train = []\n",
    "\n",
    "test_X = []\n",
    "y_test = []\n",
    "\n",
    "for i in train_vagas_data:\n",
    "    train_X.append(i['txtVaga'].replace(\"\\n\", \" \").lower())\n",
    "    y_train.append(int(i['isApplied']))\n",
    "    \n",
    "    \n",
    "for i in test_vagas_data:\n",
    "    test_X.append(i['txtVaga'].replace(\"\\n\", \" \").lower())\n",
    "    y_test.append(int(i['isApplied']))\n",
    "\n",
    "char_set = ['<pad>'] + sorted(list(set(''.join(train_X + test_X)))) + ['<_unknow']\n",
    "idx2char = {idx: char for idx, char in enumerate(char_set)}\n",
    "char2idx = {char: idx for idx, char in enumerate(char_set)}\n",
    "\n",
    "json_str = json.dumps(char2idx, ensure_ascii=False)\n",
    "json_str = json.loads(json_str)\n",
    "with open('char2idx.json', 'w', encoding='utf-8') as json_file:\n",
    "    json.dump(json_str, json_file, ensure_ascii=False)\n",
    "    \n",
    "    \n",
    "y_train = np.array(y_train)\n",
    "y_test = np.array(y_test)\n",
    "\n",
    "X_train = list(map(lambda sentence: [char2idx.get(char) for char in sentence], train_X))\n",
    "X_test = list(map(lambda sentence: [char2idx.get(char) for char in sentence], test_X))\n"
   ],
   "id": "dbe89ed71ecc1c22",
   "outputs": [],
   "execution_count": 2
  },
  {
   "metadata": {
    "ExecuteTime": {
     "end_time": "2024-08-01T14:54:04.029485Z",
     "start_time": "2024-08-01T14:54:04.018025Z"
    }
   },
   "cell_type": "code",
   "source": [
    "max_review_length = 200\n",
    "X_train = sequence.pad_sequences(X_train, maxlen=max_review_length)\n",
    "X_test = sequence.pad_sequences(X_test, maxlen=max_review_length)"
   ],
   "id": "769ec6024cf4ea00",
   "outputs": [],
   "execution_count": 3
  },
  {
   "metadata": {
    "ExecuteTime": {
     "end_time": "2024-08-01T14:54:08.194773Z",
     "start_time": "2024-08-01T14:54:04.038178Z"
    }
   },
   "cell_type": "code",
   "source": [
    "embedding_vecor_length = 32\n",
    "model = Sequential()\n",
    "model.add(Embedding(len(char2idx), embedding_vecor_length, input_length=max_review_length))\n",
    "model.add(LSTM(100))\n",
    "model.add(Dense(1, activation='sigmoid'))\n",
    "model.compile(loss='binary_crossentropy', optimizer='adam', metrics=['accuracy'])\n",
    "model.fit(X_train, y_train, validation_data=(X_test, y_test), epochs=2, batch_size=32)"
   ],
   "id": "a13216ef8294eb44",
   "outputs": [
    {
     "name": "stderr",
     "output_type": "stream",
     "text": [
      "2024-08-01 11:54:05.603650: E external/local_xla/xla/stream_executor/cuda/cuda_driver.cc:274] failed call to cuInit: CUDA_ERROR_NO_DEVICE: no CUDA-capable device is detected\n"
     ]
    },
    {
     "name": "stdout",
     "output_type": "stream",
     "text": [
      "Epoch 1/2\n",
      "2/2 [==============================] - 2s 458ms/step - loss: 0.6934 - accuracy: 0.4412 - val_loss: 0.6910 - val_accuracy: 0.5000\n",
      "Epoch 2/2\n",
      "2/2 [==============================] - 0s 84ms/step - loss: 0.6920 - accuracy: 0.5294 - val_loss: 0.6906 - val_accuracy: 0.7500\n"
     ]
    },
    {
     "data": {
      "text/plain": [
       "<keras.src.callbacks.History at 0x7f3198257520>"
      ]
     },
     "execution_count": 4,
     "metadata": {},
     "output_type": "execute_result"
    }
   ],
   "execution_count": 4
  },
  {
   "metadata": {
    "ExecuteTime": {
     "end_time": "2024-08-01T14:55:06.645613Z",
     "start_time": "2024-08-01T14:55:06.541400Z"
    }
   },
   "cell_type": "code",
   "source": [
    "# Final evaluation of the model\n",
    "scores = model.evaluate(X_test, y_test, verbose=0)\n",
    "print(\"Accuracy: %.2f%%\" % (scores[1]*100))"
   ],
   "id": "d96b61da1bd3448",
   "outputs": [
    {
     "name": "stdout",
     "output_type": "stream",
     "text": [
      "[0.6906152963638306, 0.75]\n",
      "Accuracy: 75.00%\n"
     ]
    }
   ],
   "execution_count": 8
  },
  {
   "metadata": {
    "ExecuteTime": {
     "end_time": "2024-08-01T14:54:08.600Z",
     "start_time": "2024-08-01T14:54:08.267173Z"
    }
   },
   "cell_type": "code",
   "source": [
    "pred = model.predict(X_test)\n",
    "print(pred)"
   ],
   "id": "5740ffd6ff98b0ca",
   "outputs": [
    {
     "name": "stdout",
     "output_type": "stream",
     "text": [
      "1/1 [==============================] - 0s 285ms/step\n",
      "[[0.50009435]\n",
      " [0.5004008 ]\n",
      " [0.5056968 ]\n",
      " [0.505695  ]\n",
      " [0.5025173 ]\n",
      " [0.5025187 ]\n",
      " [0.49830014]\n",
      " [0.49834016]]\n"
     ]
    }
   ],
   "execution_count": 6
  },
  {
   "metadata": {
    "ExecuteTime": {
     "end_time": "2024-08-01T14:54:08.642207Z",
     "start_time": "2024-08-01T14:54:08.601585Z"
    }
   },
   "cell_type": "code",
   "source": "model.save(\"model.keras\")",
   "id": "5d45777082d6a32e",
   "outputs": [],
   "execution_count": 7
  }
 ],
 "metadata": {
  "kernelspec": {
   "display_name": "Python 3",
   "language": "python",
   "name": "python3"
  },
  "language_info": {
   "codemirror_mode": {
    "name": "ipython",
    "version": 2
   },
   "file_extension": ".py",
   "mimetype": "text/x-python",
   "name": "python",
   "nbconvert_exporter": "python",
   "pygments_lexer": "ipython2",
   "version": "2.7.6"
  }
 },
 "nbformat": 4,
 "nbformat_minor": 5
}
