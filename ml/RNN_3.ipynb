{
 "cells": [
  {
   "metadata": {
    "ExecuteTime": {
     "end_time": "2024-08-28T22:25:34.203724Z",
     "start_time": "2024-08-28T22:25:34.189250Z"
    }
   },
   "cell_type": "code",
   "source": [
    "import numpy as np\n",
    "import matplotlib.pyplot as plt\n",
    "import urllib.request, json\n",
    "import tensorflow as tf\n",
    "from tensorflow.keras.layers import Embedding, Dense, LSTM, Bidirectional\n",
    "from tensorflow.keras.losses import BinaryCrossentropy\n",
    "from tensorflow.keras.models import Sequential\n",
    "from tensorflow.keras.optimizers import Adam\n",
    "from tensorflow.keras.preprocessing.sequence import pad_sequences\n",
    "from keras.preprocessing.text import text_to_word_sequence\n",
    "from sklearn.utils import compute_class_weight"
   ],
   "id": "a848c5a21a3af2c8",
   "outputs": [],
   "execution_count": 99
  },
  {
   "metadata": {
    "ExecuteTime": {
     "end_time": "2024-08-28T22:25:34.215124Z",
     "start_time": "2024-08-28T22:25:34.208375Z"
    }
   },
   "cell_type": "code",
   "source": [
    "gpus = tf.config.experimental.list_physical_devices('GPU')\n",
    "for gpu in gpus:\n",
    "    tf.config.experimental.set_memory_growth(gpu, True)\n",
    "    \n",
    "\n",
    "plt.rcParams['figure.figsize'] = (5, 5)\n",
    "plt.rc('font', size=5)"
   ],
   "id": "1e5a979e0177df7c",
   "outputs": [],
   "execution_count": 100
  },
  {
   "metadata": {
    "ExecuteTime": {
     "end_time": "2024-08-28T22:25:36.432507Z",
     "start_time": "2024-08-28T22:25:34.223258Z"
    }
   },
   "cell_type": "code",
   "source": [
    "res = urllib.request.urlopen(\"http://127.0.0.1:8000/api/vagas?treinamento=true\")\n",
    "data = json.loads(res.read())\n",
    "exemplos_treinamento = data['data']"
   ],
   "id": "4430858687d6b68d",
   "outputs": [],
   "execution_count": 101
  },
  {
   "metadata": {
    "ExecuteTime": {
     "end_time": "2024-08-28T22:25:36.439590Z",
     "start_time": "2024-08-28T22:25:36.433904Z"
    }
   },
   "cell_type": "code",
   "source": [
    "sentences = []\n",
    "pos = []\n",
    "maxlen = 40\n",
    "\n",
    "for exemplo in exemplos_treinamento:\n",
    "    tokens = text_to_word_sequence(exemplo['txtVaga'])\n",
    "    aplicacao = exemplo['isApplied']\n",
    "    sentences.append(tokens)\n",
    "    pos.append([int(bool(aplicacao))])\n",
    "    \n",
    "    if len(tokens) > maxlen:\n",
    "        maxlen = len(tokens)\n",
    "        print(\"Maxlen atualizado: \",  maxlen)"
   ],
   "id": "2ae32df69150c5b9",
   "outputs": [],
   "execution_count": 102
  },
  {
   "metadata": {
    "ExecuteTime": {
     "end_time": "2024-08-28T22:25:36.448600Z",
     "start_time": "2024-08-28T22:25:36.440626Z"
    }
   },
   "cell_type": "code",
   "source": [
    "word_list = ['<pad>'] + sorted(set(sum(sentences, []))) + ['_UNKNOWN']\n",
    "word2idx = {word:idx for idx, word in enumerate(word_list)}\n",
    "idx2word = {idx:word for idx, word in enumerate(word_list)}\n",
    "pos_list = sorted(set(sum(pos, [])))\n",
    "pos2idx = {pos:idx for idx, pos in enumerate(pos_list)}\n",
    "idx2pos = {idx:pos for idx, pos in enumerate(pos_list)}\n",
    "X = list(map(lambda sentence: [word2idx.get(token) for token in sentence], sentences))\n",
    "y = list(map(lambda sentence: [pos2idx.get(token) for token in sentence], pos))\n",
    "X = pad_sequences(X, maxlen=maxlen, padding='post')\n",
    "X_mask = (X != 0).astype(np.float32)\n",
    "X_len = np.array(list((map(lambda sentence: len(sentence), sentences))), dtype=np.float32)\n",
    "y = pad_sequences(y, maxlen=1, padding='post')\n",
    "\n",
    " \n",
    "json_str = json.dumps(word2idx, ensure_ascii=False)\n",
    "json_str = json.loads(json_str)\n",
    "with open('char2idx.json', 'w', encoding='utf-8') as json_file:\n",
    "    json.dump(json_str, json_file, ensure_ascii=False)"
   ],
   "id": "8b46bf2460c198f3",
   "outputs": [],
   "execution_count": 103
  },
  {
   "metadata": {
    "ExecuteTime": {
     "end_time": "2024-08-28T22:25:41.180211Z",
     "start_time": "2024-08-28T22:25:36.450163Z"
    }
   },
   "cell_type": "code",
   "source": [
    "\n",
    "num_classes = len(pos2idx)\n",
    "input_dim = len(word2idx)\n",
    "output_dim = len(word2idx)\n",
    "exemples_dim = len(sentences)\n",
    "batch_size = input_dim\n",
    "epochs = 1\n",
    "\n",
    "optimizer = Adam()\n",
    "loss_function = BinaryCrossentropy()\n",
    "additional_metrics = [\n",
    "      tf.keras.metrics.TruePositives(name='tp'),\n",
    "      tf.keras.metrics.FalsePositives(name='fp'),\n",
    "      tf.keras.metrics.TrueNegatives(name='tn'),\n",
    "      tf.keras.metrics.FalseNegatives(name='fn'), \n",
    "      tf.keras.metrics.BinaryAccuracy(name='accuracy'),\n",
    "      tf.keras.metrics.Precision(name='precision'),\n",
    "      tf.keras.metrics.Recall(name='recall'),\n",
    "      tf.keras.metrics.AUC(name='auc'),\n",
    "      tf.keras.metrics.AUC(name='prc', curve='PR'),\n",
    "]\n",
    "\n",
    "\n",
    "model = Sequential()\n",
    "model.add(Embedding(input_dim, num_classes, input_length=maxlen))\n",
    "model.add(Bidirectional(LSTM(2), merge_mode='sum'))\n",
    "model.add(Dense(1, activation='sigmoid'))\n",
    "\n",
    "model.compile(optimizer=optimizer, loss=loss_function, metrics=additional_metrics)\n",
    "#model.summary()\n",
    "\n",
    "class_weights = compute_class_weight(class_weight = \"balanced\", classes = np.unique(pos), y = np.array(sum(pos, [])))\n",
    "class_weights = dict(zip(np.unique(pos), class_weights))\n",
    "\n",
    "history = model.fit(X, y, batch_size=batch_size, class_weight=class_weights, epochs=epochs, verbose=True, validation_split=0.20)\n",
    "\n",
    "plt.figure()\n",
    "plt.plot(history.history['loss'])\n",
    "plt.show()"
   ],
   "id": "ada235de31bb12a3",
   "outputs": [
    {
     "name": "stdout",
     "output_type": "stream",
     "text": [
      "1/1 [==============================] - 4s 4s/step - loss: 0.6928 - tp: 51.0000 - fp: 31.0000 - tn: 9.0000 - fn: 16.0000 - accuracy: 0.5607 - precision: 0.6220 - recall: 0.7612 - auc: 0.4422 - prc: 0.5805 - val_loss: 0.7005 - val_tp: 0.0000e+00 - val_fp: 26.0000 - val_tn: 1.0000 - val_fn: 0.0000e+00 - val_accuracy: 0.0370 - val_precision: 0.0000e+00 - val_recall: 0.0000e+00 - val_auc: 0.0000e+00 - val_prc: 0.0000e+00\n"
     ]
    },
    {
     "data": {
      "text/plain": [
       "<Figure size 500x500 with 1 Axes>"
      ],
      "image/png": "[encoded data removed]"
     },
     "metadata": {},
     "output_type": "display_data"
    }
   ],
   "execution_count": 104
  },
  {
   "metadata": {
    "ExecuteTime": {
     "end_time": "2024-08-28T22:25:41.627440Z",
     "start_time": "2024-08-28T22:25:41.181599Z"
    }
   },
   "cell_type": "code",
   "source": [
    "novo_X = [['desenvolvedor', 'web', 'java', 'júnior', \"remoto\",]]\n",
    "novo_X = list(map(lambda sentence: [word2idx.get(token) for token in sentence], novo_X))\n",
    "novo_X = pad_sequences(novo_X, maxlen=maxlen, padding='post')\n",
    "y_pred = model.predict(novo_X, batch_size=1)[0]\n",
    "y_pred"
   ],
   "id": "e212fde3815b3bb9",
   "outputs": [
    {
     "name": "stdout",
     "output_type": "stream",
     "text": [
      "1/1 [==============================] - 0s 411ms/step\n"
     ]
    },
    {
     "data": {
      "text/plain": [
       "array([0.505726], dtype=float32)"
      ]
     },
     "execution_count": 105,
     "metadata": {},
     "output_type": "execute_result"
    }
   ],
   "execution_count": 105
  },
  {
   "metadata": {
    "ExecuteTime": {
     "end_time": "2024-08-28T22:25:41.666448Z",
     "start_time": "2024-08-28T22:25:41.628597Z"
    }
   },
   "cell_type": "code",
   "source": "model.save(\"model.keras\")",
   "id": "40ee5d889d09103e",
   "outputs": [],
   "execution_count": 106
  }
 ],
 "metadata": {
  "kernelspec": {
   "display_name": "Python 3",
   "language": "python",
   "name": "python3"
  },
  "language_info": {
   "codemirror_mode": {
    "name": "ipython",
    "version": 2
   },
   "file_extension": ".py",
   "mimetype": "text/x-python",
   "name": "python",
   "nbconvert_exporter": "python",
   "pygments_lexer": "ipython2",
   "version": "2.7.6"
  }
 },
 "nbformat": 4,
 "nbformat_minor": 5
}
