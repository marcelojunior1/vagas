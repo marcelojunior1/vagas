{
 "cells": [
  {
   "metadata": {
    "ExecuteTime": {
     "end_time": "2024-09-20T02:10:35.081955Z",
     "start_time": "2024-09-20T02:10:31.285346Z"
    }
   },
   "cell_type": "code",
   "source": [
    "import matplotlib.pyplot as plt\n",
    "import urllib.request, json\n",
    "import tensorflow as tf\n",
    "import numpy as np\n",
    "\n",
    "from tensorflow.keras.layers import Embedding, Dense, SimpleRNN\n",
    "from tensorflow.keras.losses import BinaryCrossentropy\n",
    "from tensorflow.keras.models import Sequential\n",
    "from tensorflow.keras.optimizers import Adam\n",
    "from tensorflow.keras.preprocessing.sequence import pad_sequences\n",
    "from nltk import wordpunct_tokenize\n",
    "\n",
    "print(\"Num GPUs Available: \", len(tf.config.list_physical_devices(\"GPU\")))"
   ],
   "id": "a848c5a21a3af2c8",
   "outputs": [
    {
     "name": "stderr",
     "output_type": "stream",
     "text": [
      "2024-09-19 23:10:31.950789: E external/local_xla/xla/stream_executor/cuda/cuda_fft.cc:479] Unable to register cuFFT factory: Attempting to register factory for plugin cuFFT when one has already been registered\n",
      "2024-09-19 23:10:31.972168: E external/local_xla/xla/stream_executor/cuda/cuda_dnn.cc:10575] Unable to register cuDNN factory: Attempting to register factory for plugin cuDNN when one has already been registered\n",
      "2024-09-19 23:10:31.972199: E external/local_xla/xla/stream_executor/cuda/cuda_blas.cc:1442] Unable to register cuBLAS factory: Attempting to register factory for plugin cuBLAS when one has already been registered\n",
      "2024-09-19 23:10:31.985468: I tensorflow/core/platform/cpu_feature_guard.cc:210] This TensorFlow binary is optimized to use available CPU instructions in performance-critical operations.\n",
      "To enable the following instructions: AVX2 FMA, in other operations, rebuild TensorFlow with the appropriate compiler flags.\n",
      "2024-09-19 23:10:32.789054: W tensorflow/compiler/tf2tensorrt/utils/py_utils.cc:38] TF-TRT Warning: Could not find TensorRT\n"
     ]
    },
    {
     "name": "stdout",
     "output_type": "stream",
     "text": [
      "Num GPUs Available:  0\n"
     ]
    },
    {
     "name": "stderr",
     "output_type": "stream",
     "text": [
      "2024-09-19 23:10:35.078325: E external/local_xla/xla/stream_executor/cuda/cuda_driver.cc:282] failed call to cuInit: CUDA_ERROR_NO_DEVICE: no CUDA-capable device is detected\n"
     ]
    }
   ],
   "execution_count": 1
  },
  {
   "cell_type": "code",
   "id": "1e5a979e0177df7c",
   "metadata": {
    "ExecuteTime": {
     "end_time": "2024-09-20T02:10:44.943513Z",
     "start_time": "2024-09-20T02:10:44.940326Z"
    }
   },
   "source": [
    "gpus = tf.config.experimental.list_physical_devices('GPU')\n",
    "for gpu in gpus:\n",
    "    tf.config.experimental.set_memory_growth(gpu, True)\n",
    "    \n",
    "plt.rcParams['figure.figsize'] = (5, 5)\n",
    "plt.rc('font', size=5)"
   ],
   "outputs": [],
   "execution_count": 2
  },
  {
   "cell_type": "code",
   "id": "4430858687d6b68d",
   "metadata": {
    "ExecuteTime": {
     "end_time": "2024-09-20T02:10:55.890637Z",
     "start_time": "2024-09-20T02:10:50.562290Z"
    }
   },
   "source": [
    "res = urllib.request.urlopen(\"http://127.0.0.1:8000/api/vagas?treinamento=true\")\n",
    "data = json.loads(res.read())\n",
    "exemplos_treinamento = data['data']\n",
    "qtd_pos = data['qtd_pos']\n",
    "qtd_neg = data['qtd_neg']"
   ],
   "outputs": [],
   "execution_count": 3
  },
  {
   "metadata": {
    "ExecuteTime": {
     "end_time": "2024-09-20T02:11:00.736366Z",
     "start_time": "2024-09-20T02:11:00.731393Z"
    }
   },
   "cell_type": "code",
   "source": [
    "\n",
    "def converteTextoParaTokens(texto : str):\n",
    "    tokens = list(map(lambda x: str(x).lower(), wordpunct_tokenize(texto)))\n",
    "    for i in range(len(tokens)):\n",
    "        if tokens[i].isdigit():\n",
    "            tokens[i] = \"num\"\n",
    "    return tokens"
   ],
   "id": "fea4c81e7e274c11",
   "outputs": [],
   "execution_count": 4
  },
  {
   "cell_type": "code",
   "id": "2ae32df69150c5b9",
   "metadata": {
    "ExecuteTime": {
     "end_time": "2024-09-20T02:11:04.920046Z",
     "start_time": "2024-09-20T02:11:04.746823Z"
    }
   },
   "source": [
    "sentences = []\n",
    "pos = []\n",
    "maxlen = 46\n",
    "\n",
    "set_test = set()\n",
    "for exemplo in exemplos_treinamento:\n",
    "    tokens = converteTextoParaTokens(exemplo['txtVaga'])\n",
    "    \n",
    "    for i in tokens:\n",
    "        set_test.add(i)\n",
    "        \n",
    "    aplicacao = exemplo['isApplied']\n",
    "    sentences.append(tokens)\n",
    "    pos.append([int(bool(aplicacao))])\n",
    "    \n",
    "    if len(tokens) > maxlen:\n",
    "        maxlen = len(tokens)\n",
    "        print(\"Maxlen atualizado: \",  maxlen)"
   ],
   "outputs": [],
   "execution_count": 5
  },
  {
   "cell_type": "code",
   "id": "8b46bf2460c198f3",
   "metadata": {
    "ExecuteTime": {
     "end_time": "2024-09-20T01:52:08.837329Z",
     "start_time": "2024-09-20T01:51:59.109915Z"
    }
   },
   "source": [
    "word_list = ['<pad>'] + sorted(set(sum(sentences, []))) + ['_UNKNOWN']\n",
    "word2idx = {word:idx for idx, word in enumerate(word_list)}\n",
    "idx2word = {idx:word for idx, word in enumerate(word_list)}\n",
    "pos_list = sorted(set(sum(pos, [])))\n",
    "pos2idx = {pos:idx for idx, pos in enumerate(pos_list)}\n",
    "idx2pos = {idx:pos for idx, pos in enumerate(pos_list)}\n",
    "X = list(map(lambda sentence: [word2idx.get(token) for token in sentence], sentences))\n",
    "y = list(map(lambda sentence: [pos2idx.get(token) for token in sentence], pos))\n",
    "X = pad_sequences(X, maxlen=maxlen, padding='post')\n",
    "X_mask = (X != 0).astype(np.float32)\n",
    "X_len = np.array(list((map(lambda sentence: len(sentence), sentences))), dtype=np.float32)\n",
    "y = pad_sequences(y, maxlen=1, padding='post')\n",
    "\n",
    "json_str = json.dumps(word2idx, ensure_ascii=False)\n",
    "json_str = json.loads(json_str)\n",
    "with open('char2idx.json', 'w', encoding='utf-8') as json_file:\n",
    "    json.dump(json_str, json_file, ensure_ascii=False)"
   ],
   "outputs": [],
   "execution_count": 29
  },
  {
   "cell_type": "code",
   "id": "ada235de31bb12a3",
   "metadata": {
    "ExecuteTime": {
     "end_time": "2024-09-20T01:56:43.295447Z",
     "start_time": "2024-09-20T01:52:11.294216Z"
    }
   },
   "source": [
    "\n",
    "num_classes = len(pos2idx)\n",
    "input_dim = len(word2idx)\n",
    "output_dim = len(word2idx)\n",
    "exemples_dim = len(sentences)\n",
    "batch_size = 300\n",
    "epochs = 10\n",
    "\n",
    "optimizer = Adam()\n",
    "\n",
    "loss_function = BinaryCrossentropy()\n",
    "additional_metrics = [\n",
    "    tf.keras.metrics.FalsePositives(name='fp'),\n",
    "    tf.keras.metrics.FalseNegatives(name='fn'), \n",
    "    tf.keras.metrics.BinaryAccuracy(name='accuracy', threshold=0.6),\n",
    "    tf.keras.metrics.Precision(name='precision'),\n",
    "    tf.keras.metrics.Recall(name='recall'),\n",
    "    tf.keras.metrics.AUC(name='auc'),\n",
    "    tf.keras.metrics.AUC(name='prc', curve='PR')\n",
    "]\n",
    "\n",
    "model = Sequential()\n",
    "model.add(Embedding(\n",
    "    input_dim=input_dim,\n",
    "    output_dim=output_dim,\n",
    "    mask_zero=True,\n",
    "    embeddings_initializer=tf.keras.initializers.random_normal\n",
    "))\n",
    "model.add(SimpleRNN(units=3))\n",
    "model.add(Dense(1, activation='sigmoid'))\n",
    "\n",
    "model.compile(optimizer=optimizer, loss=loss_function, metrics=additional_metrics)\n",
    "#model.summary()\n",
    "\n",
    "weight_for_0 = (1 / qtd_neg) * (exemples_dim / 3.0)\n",
    "weight_for_1 = (1 / qtd_pos) * (exemples_dim / 3.0)\n",
    "class_weight = {0: weight_for_0, 1: weight_for_1}\n",
    "\n",
    "history = model.fit(X, y, class_weight=class_weight, batch_size=batch_size, shuffle=True, epochs=epochs, verbose=True)\n",
    "\n",
    "plt.figure()\n",
    "plt.plot(history.history['fn'])\n",
    "plt.show()"
   ],
   "outputs": [
    {
     "name": "stdout",
     "output_type": "stream",
     "text": [
      "Epoch 1/10\n"
     ]
    },
    {
     "name": "stderr",
     "output_type": "stream",
     "text": [
      "2024-09-19 22:52:12.639270: W external/local_tsl/tsl/framework/cpu_allocator_impl.cc:83] Allocation of 112996900 exceeds 10% of free system memory.\n",
      "2024-09-19 22:52:12.687881: W external/local_tsl/tsl/framework/cpu_allocator_impl.cc:83] Allocation of 112996900 exceeds 10% of free system memory.\n",
      "2024-09-19 22:52:13.146002: W external/local_tsl/tsl/framework/cpu_allocator_impl.cc:83] Allocation of 112996900 exceeds 10% of free system memory.\n",
      "2024-09-19 22:52:13.204830: W external/local_tsl/tsl/framework/cpu_allocator_impl.cc:83] Allocation of 112996900 exceeds 10% of free system memory.\n",
      "2024-09-19 22:52:13.273703: W external/local_tsl/tsl/framework/cpu_allocator_impl.cc:83] Allocation of 112996900 exceeds 10% of free system memory.\n"
     ]
    },
    {
     "name": "stdout",
     "output_type": "stream",
     "text": [
      "\u001B[1m38/38\u001B[0m \u001B[32m━━━━━━━━━━━━━━━━━━━━\u001B[0m\u001B[37m\u001B[0m \u001B[1m29s\u001B[0m 676ms/step - accuracy: 0.8312 - auc: 0.6482 - fn: 62.1026 - fp: 1767.5641 - loss: 0.4374 - prc: 0.0618 - precision: 0.0335 - recall: 0.4899\n",
      "Epoch 2/10\n",
      "\u001B[1m38/38\u001B[0m \u001B[32m━━━━━━━━━━━━━━━━━━━━\u001B[0m\u001B[37m\u001B[0m \u001B[1m25s\u001B[0m 648ms/step - accuracy: 0.8471 - auc: 0.7931 - fn: 38.8974 - fp: 1442.6666 - loss: 0.3607 - prc: 0.1302 - precision: 0.0555 - recall: 0.6797\n",
      "Epoch 3/10\n",
      "\u001B[1m38/38\u001B[0m \u001B[32m━━━━━━━━━━━━━━━━━━━━\u001B[0m\u001B[37m\u001B[0m \u001B[1m26s\u001B[0m 692ms/step - accuracy: 0.9007 - auc: 0.9050 - fn: 15.1282 - fp: 951.3333 - loss: 0.2909 - prc: 0.2269 - precision: 0.1058 - recall: 0.8633\n",
      "Epoch 4/10\n",
      "\u001B[1m38/38\u001B[0m \u001B[32m━━━━━━━━━━━━━━━━━━━━\u001B[0m\u001B[37m\u001B[0m \u001B[1m27s\u001B[0m 717ms/step - accuracy: 0.9374 - auc: 0.9582 - fn: 10.8462 - fp: 406.5898 - loss: 0.2073 - prc: 0.3582 - precision: 0.2140 - recall: 0.9289\n",
      "Epoch 5/10\n",
      "\u001B[1m38/38\u001B[0m \u001B[32m━━━━━━━━━━━━━━━━━━━━\u001B[0m\u001B[37m\u001B[0m \u001B[1m27s\u001B[0m 702ms/step - accuracy: 0.9316 - auc: 0.9532 - fn: 9.4615 - fp: 405.7692 - loss: 0.2014 - prc: 0.3596 - precision: 0.2117 - recall: 0.9203\n",
      "Epoch 6/10\n",
      "\u001B[1m38/38\u001B[0m \u001B[32m━━━━━━━━━━━━━━━━━━━━\u001B[0m\u001B[37m\u001B[0m \u001B[1m28s\u001B[0m 747ms/step - accuracy: 0.9588 - auc: 0.9765 - fn: 6.4359 - fp: 286.6667 - loss: 0.1609 - prc: 0.4422 - precision: 0.3093 - recall: 0.9527\n",
      "Epoch 7/10\n",
      "\u001B[1m38/38\u001B[0m \u001B[32m━━━━━━━━━━━━━━━━━━━━\u001B[0m\u001B[37m\u001B[0m \u001B[1m27s\u001B[0m 717ms/step - accuracy: 0.9723 - auc: 0.9766 - fn: 9.1026 - fp: 196.1538 - loss: 0.1341 - prc: 0.5307 - precision: 0.3772 - recall: 0.9277\n",
      "Epoch 8/10\n",
      "\u001B[1m38/38\u001B[0m \u001B[32m━━━━━━━━━━━━━━━━━━━━\u001B[0m\u001B[37m\u001B[0m \u001B[1m27s\u001B[0m 702ms/step - accuracy: 0.9604 - auc: 0.9786 - fn: 5.1282 - fp: 256.3846 - loss: 0.1350 - prc: 0.4946 - precision: 0.3438 - recall: 0.9659\n",
      "Epoch 9/10\n",
      "\u001B[1m38/38\u001B[0m \u001B[32m━━━━━━━━━━━━━━━━━━━━\u001B[0m\u001B[37m\u001B[0m \u001B[1m28s\u001B[0m 726ms/step - accuracy: 0.9697 - auc: 0.9839 - fn: 5.5128 - fp: 184.9231 - loss: 0.1188 - prc: 0.5540 - precision: 0.3962 - recall: 0.9586\n",
      "Epoch 10/10\n",
      "\u001B[1m38/38\u001B[0m \u001B[32m━━━━━━━━━━━━━━━━━━━━\u001B[0m\u001B[37m\u001B[0m \u001B[1m28s\u001B[0m 734ms/step - accuracy: 0.9568 - auc: 0.9627 - fn: 5.7179 - fp: 263.2820 - loss: 0.1398 - prc: 0.3841 - precision: 0.3153 - recall: 0.9586\n"
     ]
    },
    {
     "data": {
      "text/plain": [
       "<Figure size 500x500 with 1 Axes>"
      ],
      "image/png": "[encoded data removed]"
     },
     "metadata": {},
     "output_type": "display_data"
    }
   ],
   "execution_count": 30
  },
  {
   "cell_type": "code",
   "id": "e212fde3815b3bb9",
   "metadata": {},
   "source": [
    "# Exemplo de inferência\n",
    "novo_X = [['desenvolvedor', 'web', 'java','junior']]\n",
    "novo_X = list(map(lambda sentence: [word2idx.get(token) for token in sentence], novo_X))\n",
    "novo_X = pad_sequences(novo_X, maxlen=maxlen, padding='post')\n",
    "y_pred = model.predict(novo_X, batch_size=1)[0]\n",
    "y_pred"
   ],
   "outputs": [],
   "execution_count": null
  },
  {
   "cell_type": "code",
   "id": "40ee5d889d09103e",
   "metadata": {
    "ExecuteTime": {
     "end_time": "2024-09-20T01:57:02.070979Z",
     "start_time": "2024-09-20T01:57:00.517208Z"
    }
   },
   "source": [
    "model.save(\"model.keras\")"
   ],
   "outputs": [],
   "execution_count": 31
  }
 ],
 "metadata": {
  "kernelspec": {
   "display_name": "Python 3 (ipykernel)",
   "language": "python",
   "name": "python3"
  },
  "language_info": {
   "codemirror_mode": {
    "name": "ipython",
    "version": 3
   },
   "file_extension": ".py",
   "mimetype": "text/x-python",
   "name": "python",
   "nbconvert_exporter": "python",
   "pygments_lexer": "ipython3",
   "version": "3.11.9"
  }
 },
 "nbformat": 4,
 "nbformat_minor": 5
}
