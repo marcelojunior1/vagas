{
 "cells": [
  {
   "metadata": {
    "ExecuteTime": {
     "end_time": "2024-08-26T22:40:24.370330Z",
     "start_time": "2024-08-26T22:40:24.354343Z"
    }
   },
   "cell_type": "code",
   "source": [
    "import numpy as np\n",
    "import matplotlib.pyplot as plt\n",
    "import urllib.request, json\n",
    "import tensorflow as tf\n",
    "from tensorflow.keras.layers import Embedding, Dense, LSTM, Bidirectional\n",
    "from tensorflow.keras.losses import BinaryCrossentropy\n",
    "from tensorflow.keras.models import Sequential\n",
    "from tensorflow.keras.optimizers import Adam\n",
    "from tensorflow.keras.preprocessing.sequence import pad_sequences\n",
    "from keras.preprocessing.text import text_to_word_sequence"
   ],
   "id": "a848c5a21a3af2c8",
   "outputs": [],
   "execution_count": 9
  },
  {
   "metadata": {
    "ExecuteTime": {
     "end_time": "2024-08-26T22:40:24.425902Z",
     "start_time": "2024-08-26T22:40:24.413383Z"
    }
   },
   "cell_type": "code",
   "source": [
    "gpus = tf.config.experimental.list_physical_devices('GPU')\n",
    "for gpu in gpus:\n",
    "    tf.config.experimental.set_memory_growth(gpu, True)\n",
    "    \n",
    "\n",
    "plt.rcParams['figure.figsize'] = (5, 5)\n",
    "plt.rc('font', size=5)"
   ],
   "id": "1e5a979e0177df7c",
   "outputs": [],
   "execution_count": 10
  },
  {
   "metadata": {
    "ExecuteTime": {
     "end_time": "2024-08-26T22:40:26.679703Z",
     "start_time": "2024-08-26T22:40:24.520756Z"
    }
   },
   "cell_type": "code",
   "source": [
    "res = urllib.request.urlopen(\"http://127.0.0.1:8000/api/vagas?treinamento=true\")\n",
    "data = json.loads(res.read())\n",
    "exemplos_treinamento = data['data']"
   ],
   "id": "4430858687d6b68d",
   "outputs": [],
   "execution_count": 11
  },
  {
   "metadata": {
    "ExecuteTime": {
     "end_time": "2024-08-26T22:40:26.713974Z",
     "start_time": "2024-08-26T22:40:26.681316Z"
    }
   },
   "cell_type": "code",
   "source": [
    "sentences = []\n",
    "pos = []\n",
    "maxlen = 40\n",
    "\n",
    "for exemplo in exemplos_treinamento:\n",
    "    tokens = text_to_word_sequence(exemplo['txtVaga'])\n",
    "    \n",
    "    aplicacao = exemplo['isApplied']\n",
    "    sentences.append(tokens)\n",
    "    pos.append([str(aplicacao)])\n",
    "    \n",
    "    if len(tokens) > maxlen:\n",
    "        maxlen = len(tokens)\n",
    "        print(\"Maxlen atualizado: \",  maxlen)"
   ],
   "id": "2ae32df69150c5b9",
   "outputs": [],
   "execution_count": 12
  },
  {
   "metadata": {
    "ExecuteTime": {
     "end_time": "2024-08-26T22:40:26.877179Z",
     "start_time": "2024-08-26T22:40:26.715060Z"
    }
   },
   "cell_type": "code",
   "source": [
    "word_list = ['<pad>'] + sorted(set(sum(sentences, []))) + ['_UNKNOWN']\n",
    "word2idx = {word:idx for idx, word in enumerate(word_list)}\n",
    "idx2word = {idx:word for idx, word in enumerate(word_list)}\n",
    "pos_list = sorted(set(sum(pos, [])))\n",
    "pos2idx = {pos:idx for idx, pos in enumerate(pos_list)}\n",
    "idx2pos = {idx:pos for idx, pos in enumerate(pos_list)}\n",
    "X = list(map(lambda sentence: [word2idx.get(token) for token in sentence], sentences))\n",
    "y = list(map(lambda sentence: [pos2idx.get(token) for token in sentence], pos))\n",
    "X = pad_sequences(X, maxlen=maxlen, padding='post')\n",
    "X_mask = (X != 0).astype(np.float32)\n",
    "X_len = np.array(list((map(lambda sentence: len(sentence), sentences))), dtype=np.float32)\n",
    "y = pad_sequences(y, maxlen=1, padding='post')\n",
    "\n",
    "json_str = json.dumps(word2idx, ensure_ascii=False)\n",
    "json_str = json.loads(json_str)\n",
    "with open('char2idx.json', 'w', encoding='utf-8') as json_file:\n",
    "    json.dump(json_str, json_file, ensure_ascii=False)"
   ],
   "id": "8b46bf2460c198f3",
   "outputs": [],
   "execution_count": 13
  },
  {
   "metadata": {
    "ExecuteTime": {
     "end_time": "2024-08-26T22:40:31.241038Z",
     "start_time": "2024-08-26T22:40:26.879160Z"
    }
   },
   "cell_type": "code",
   "source": [
    "num_classes = len(pos2idx)\n",
    "input_dim = len(word2idx)\n",
    "output_dim = len(word2idx)\n",
    "exemples_dim = len(sentences)\n",
    "batch_size = 256\n",
    "epochs = 10\n",
    "\n",
    "optimizer = Adam()\n",
    "loss_function = BinaryCrossentropy()\n",
    "additional_metrics = ['accuracy']\n",
    "\n",
    "model = Sequential()\n",
    "model.add(Embedding(input_dim, num_classes, input_length=maxlen))\n",
    "model.add(Bidirectional(LSTM(2), merge_mode='sum'))\n",
    "model.add(Dense(1, activation='sigmoid'))\n",
    "\n",
    "model.compile(optimizer=optimizer, loss=loss_function, metrics=additional_metrics)\n",
    "#model.summary()\n",
    "\n",
    "history = model.fit(X, y, batch_size=batch_size, epochs=epochs, verbose=False, validation_split=0.20)\n",
    "\n",
    "plt.figure()\n",
    "plt.plot(history.history['loss'])\n",
    "plt.show()"
   ],
   "id": "ada235de31bb12a3",
   "outputs": [
    {
     "data": {
      "text/plain": [
       "<Figure size 500x500 with 1 Axes>"
      ],
      "image/png": "[encoded data removed]"
     },
     "metadata": {},
     "output_type": "display_data"
    }
   ],
   "execution_count": 14
  },
  {
   "metadata": {
    "ExecuteTime": {
     "end_time": "2024-08-26T22:47:35.272710Z",
     "start_time": "2024-08-26T22:47:35.212422Z"
    }
   },
   "cell_type": "code",
   "source": [
    "novo_X = [['desenvolvedor', 'web', 'java', 'júnior', \"remoto\",]]\n",
    "novo_X = list(map(lambda sentence: [word2idx.get(token) for token in sentence], novo_X))\n",
    "novo_X = pad_sequences(novo_X, maxlen=maxlen, padding='post')\n",
    "y_pred = model.predict(novo_X, batch_size=1)[0]\n",
    "y_pred"
   ],
   "id": "e212fde3815b3bb9",
   "outputs": [
    {
     "name": "stdout",
     "output_type": "stream",
     "text": [
      "1/1 [==============================] - 0s 13ms/step\n"
     ]
    },
    {
     "data": {
      "text/plain": [
       "array([0.3611197], dtype=float32)"
      ]
     },
     "execution_count": 24,
     "metadata": {},
     "output_type": "execute_result"
    }
   ],
   "execution_count": 24
  },
  {
   "metadata": {
    "ExecuteTime": {
     "end_time": "2024-08-26T22:40:31.763985Z",
     "start_time": "2024-08-26T22:40:31.724966Z"
    }
   },
   "cell_type": "code",
   "source": "model.save(\"model.keras\")",
   "id": "40ee5d889d09103e",
   "outputs": [],
   "execution_count": 16
  }
 ],
 "metadata": {
  "kernelspec": {
   "display_name": "Python 3",
   "language": "python",
   "name": "python3"
  },
  "language_info": {
   "codemirror_mode": {
    "name": "ipython",
    "version": 2
   },
   "file_extension": ".py",
   "mimetype": "text/x-python",
   "name": "python",
   "nbconvert_exporter": "python",
   "pygments_lexer": "ipython2",
   "version": "2.7.6"
  }
 },
 "nbformat": 4,
 "nbformat_minor": 5
}
