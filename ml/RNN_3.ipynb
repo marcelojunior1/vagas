{
 "cells": [
  {
   "metadata": {
    "ExecuteTime": {
     "end_time": "2024-09-20T22:34:33.265072Z",
     "start_time": "2024-09-20T22:34:33.258649Z"
    }
   },
   "cell_type": "code",
   "source": [
    "import matplotlib.pyplot as plt\n",
    "import urllib.request, json\n",
    "import tensorflow as tf\n",
    "import numpy as np\n",
    "\n",
    "from tensorflow.keras.layers import Embedding, Dense, SimpleRNN\n",
    "from tensorflow.keras.losses import BinaryCrossentropy\n",
    "from tensorflow.keras.models import Sequential\n",
    "from tensorflow.keras.optimizers import Adam\n",
    "from tensorflow.keras.preprocessing.sequence import pad_sequences\n",
    "from nltk.tokenize import RegexpTokenizer\n",
    "tokenizer = RegexpTokenizer(r'\\w+')"
   ],
   "id": "a848c5a21a3af2c8",
   "outputs": [],
   "execution_count": 25
  },
  {
   "cell_type": "code",
   "id": "1e5a979e0177df7c",
   "metadata": {
    "ExecuteTime": {
     "end_time": "2024-09-20T22:34:36.650438Z",
     "start_time": "2024-09-20T22:34:36.645362Z"
    }
   },
   "source": [
    "print(\"Num GPUs Available: \", len(tf.config.list_physical_devices(\"GPU\")))\n",
    "gpus = tf.config.experimental.list_physical_devices('GPU')\n",
    "for gpu in gpus:\n",
    "    tf.config.experimental.set_memory_growth(gpu, True)\n",
    "    \n",
    "plt.rcParams['figure.figsize'] = (5, 5)\n",
    "plt.rc('font', size=5)"
   ],
   "outputs": [
    {
     "name": "stdout",
     "output_type": "stream",
     "text": [
      "Num GPUs Available:  0\n"
     ]
    }
   ],
   "execution_count": 26
  },
  {
   "cell_type": "code",
   "id": "4430858687d6b68d",
   "metadata": {
    "ExecuteTime": {
     "end_time": "2024-09-20T22:34:51.923358Z",
     "start_time": "2024-09-20T22:34:42.991266Z"
    }
   },
   "source": [
    "res = urllib.request.urlopen(\"http://127.0.0.1:8000/api/vagas?treinamento=true\")\n",
    "data = json.loads(res.read())\n",
    "exemplos_treinamento = data['data']\n",
    "qtd_pos = data['qtd_pos']\n",
    "qtd_neg = data['qtd_neg']"
   ],
   "outputs": [],
   "execution_count": 27
  },
  {
   "metadata": {
    "ExecuteTime": {
     "end_time": "2024-09-20T22:44:24.238532Z",
     "start_time": "2024-09-20T22:44:24.123900Z"
    }
   },
   "cell_type": "code",
   "source": [
    "sentences = []\n",
    "pos = []\n",
    "maxlen = 46\n",
    "\n",
    "def converteTextoParaTokens(texto : str):\n",
    "    tokens = list(map(lambda x: str(x).lower(), tokenizer.tokenize(texto)))\n",
    "    for i in range(len(tokens)):\n",
    "        if tokens[i].isdigit():\n",
    "            tokens[i] = \"num\"\n",
    "    return tokens\n",
    "\n",
    "for exemplo in exemplos_treinamento:\n",
    "    tokens = converteTextoParaTokens(exemplo['txtVaga'])\n",
    "    aplicacao = exemplo['isApplied']\n",
    "    sentences.append(tokens)\n",
    "    pos.append([int(bool(aplicacao))])\n",
    "    \n",
    "    if len(tokens) > maxlen:\n",
    "        maxlen = len(tokens)\n",
    "        print(\"Maxlen atualizado: \",  maxlen)"
   ],
   "id": "2ae32df69150c5b9",
   "outputs": [],
   "execution_count": 33
  },
  {
   "cell_type": "code",
   "id": "8b46bf2460c198f3",
   "metadata": {
    "ExecuteTime": {
     "end_time": "2024-09-20T22:44:34.169631Z",
     "start_time": "2024-09-20T22:44:27.242158Z"
    }
   },
   "source": [
    "word_list = ['<pad>'] + sorted(set(sum(sentences, []))) + ['_UNKNOWN']\n",
    "word2idx = {word:idx for idx, word in enumerate(word_list)}\n",
    "idx2word = {idx:word for idx, word in enumerate(word_list)}\n",
    "pos_list = sorted(set(sum(pos, [])))\n",
    "pos2idx = {pos:idx for idx, pos in enumerate(pos_list)}\n",
    "idx2pos = {idx:pos for idx, pos in enumerate(pos_list)}\n",
    "X = list(map(lambda sentence: [word2idx.get(token) for token in sentence], sentences))\n",
    "y = list(map(lambda sentence: [pos2idx.get(token) for token in sentence], pos))\n",
    "X = pad_sequences(X, maxlen=maxlen, padding='post')\n",
    "X_mask = (X != 0).astype(np.float32)\n",
    "X_len = np.array(list((map(lambda sentence: len(sentence), sentences))), dtype=np.float32)\n",
    "y = pad_sequences(y, maxlen=1, padding='post')\n",
    "\n",
    "json_str = json.dumps(word2idx, ensure_ascii=False)\n",
    "json_str = json.loads(json_str)\n",
    "with open('char2idx.json', 'w', encoding='utf-8') as json_file:\n",
    "    json.dump(json_str, json_file, ensure_ascii=False)"
   ],
   "outputs": [],
   "execution_count": 34
  },
  {
   "cell_type": "code",
   "id": "ada235de31bb12a3",
   "metadata": {
    "ExecuteTime": {
     "end_time": "2024-09-20T22:48:50.647264Z",
     "start_time": "2024-09-20T22:44:51.670775Z"
    }
   },
   "source": [
    "\n",
    "num_classes = len(pos2idx)\n",
    "input_dim = len(word2idx)\n",
    "output_dim = len(word2idx)\n",
    "exemples_dim = len(sentences)\n",
    "batch_size = 300\n",
    "epochs = 10\n",
    "\n",
    "optimizer = Adam()\n",
    "\n",
    "loss_function = BinaryCrossentropy()\n",
    "additional_metrics = [\n",
    "    tf.keras.metrics.FalsePositives(name='fp'),\n",
    "    tf.keras.metrics.FalseNegatives(name='fn'), \n",
    "    tf.keras.metrics.BinaryAccuracy(name='accuracy', threshold=0.6),\n",
    "    tf.keras.metrics.Precision(name='precision'),\n",
    "    tf.keras.metrics.Recall(name='recall'),\n",
    "    tf.keras.metrics.AUC(name='auc'),\n",
    "    tf.keras.metrics.AUC(name='prc', curve='PR')\n",
    "]\n",
    "\n",
    "model = Sequential()\n",
    "model.add(Embedding(\n",
    "    input_dim=input_dim,\n",
    "    output_dim=output_dim,\n",
    "    mask_zero=True,\n",
    "    embeddings_initializer=tf.keras.initializers.random_normal\n",
    "))\n",
    "model.add(SimpleRNN(units=3))\n",
    "model.add(Dense(1, activation='sigmoid'))\n",
    "\n",
    "model.compile(optimizer=optimizer, loss=loss_function, metrics=additional_metrics)\n",
    "#model.summary()\n",
    "\n",
    "weight_for_0 = (1 / qtd_neg) * (exemples_dim / 3.0)\n",
    "weight_for_1 = (1 / qtd_pos) * (exemples_dim / 3.0)\n",
    "class_weight = {0: weight_for_0, 1: weight_for_1}\n",
    "\n",
    "history = model.fit(X, y, class_weight=class_weight, batch_size=batch_size, shuffle=True, epochs=epochs, verbose=True)\n",
    "\n",
    "plt.figure()\n",
    "plt.plot(history.history['fn'])\n",
    "plt.show()"
   ],
   "outputs": [
    {
     "name": "stdout",
     "output_type": "stream",
     "text": [
      "Epoch 1/10\n",
      "\u001B[1m36/36\u001B[0m \u001B[32m━━━━━━━━━━━━━━━━━━━━\u001B[0m\u001B[37m\u001B[0m \u001B[1m29s\u001B[0m 696ms/step - accuracy: 0.9001 - auc: 0.6107 - fn: 61.8649 - fp: 1936.0541 - loss: 0.4531 - prc: 0.0438 - precision: 0.0322 - recall: 0.5248\n",
      "Epoch 2/10\n",
      "\u001B[1m36/36\u001B[0m \u001B[32m━━━━━━━━━━━━━━━━━━━━\u001B[0m\u001B[37m\u001B[0m \u001B[1m24s\u001B[0m 670ms/step - accuracy: 0.8978 - auc: 0.7832 - fn: 29.8108 - fp: 1742.7838 - loss: 0.3928 - prc: 0.0832 - precision: 0.0465 - recall: 0.7888\n",
      "Epoch 3/10\n",
      "\u001B[1m36/36\u001B[0m \u001B[32m━━━━━━━━━━━━━━━━━━━━\u001B[0m\u001B[37m\u001B[0m \u001B[1m27s\u001B[0m 746ms/step - accuracy: 0.9078 - auc: 0.8479 - fn: 36.4054 - fp: 1105.5405 - loss: 0.4042 - prc: 0.1134 - precision: 0.0808 - recall: 0.7256\n",
      "Epoch 4/10\n",
      "\u001B[1m36/36\u001B[0m \u001B[32m━━━━━━━━━━━━━━━━━━━━\u001B[0m\u001B[37m\u001B[0m \u001B[1m22s\u001B[0m 625ms/step - accuracy: 0.9089 - auc: 0.9018 - fn: 23.9730 - fp: 863.1622 - loss: 0.3512 - prc: 0.1527 - precision: 0.1040 - recall: 0.8313\n",
      "Epoch 5/10\n",
      "\u001B[1m36/36\u001B[0m \u001B[32m━━━━━━━━━━━━━━━━━━━━\u001B[0m\u001B[37m\u001B[0m \u001B[1m22s\u001B[0m 617ms/step - accuracy: 0.8838 - auc: 0.9078 - fn: 17.4324 - fp: 942.2703 - loss: 0.3188 - prc: 0.1379 - precision: 0.0963 - recall: 0.8790\n",
      "Epoch 6/10\n",
      "\u001B[1m36/36\u001B[0m \u001B[32m━━━━━━━━━━━━━━━━━━━━\u001B[0m\u001B[37m\u001B[0m \u001B[1m23s\u001B[0m 635ms/step - accuracy: 0.8834 - auc: 0.9220 - fn: 17.1892 - fp: 876.4865 - loss: 0.3086 - prc: 0.1928 - precision: 0.1177 - recall: 0.8752\n",
      "Epoch 7/10\n",
      "\u001B[1m36/36\u001B[0m \u001B[32m━━━━━━━━━━━━━━━━━━━━\u001B[0m\u001B[37m\u001B[0m \u001B[1m23s\u001B[0m 650ms/step - accuracy: 0.8977 - auc: 0.9186 - fn: 16.2432 - fp: 800.6757 - loss: 0.2911 - prc: 0.1805 - precision: 0.1283 - recall: 0.8624\n",
      "Epoch 8/10\n",
      "\u001B[1m36/36\u001B[0m \u001B[32m━━━━━━━━━━━━━━━━━━━━\u001B[0m\u001B[37m\u001B[0m \u001B[1m23s\u001B[0m 630ms/step - accuracy: 0.8896 - auc: 0.9348 - fn: 14.1351 - fp: 795.9459 - loss: 0.2672 - prc: 0.2267 - precision: 0.1235 - recall: 0.8839\n",
      "Epoch 9/10\n",
      "\u001B[1m36/36\u001B[0m \u001B[32m━━━━━━━━━━━━━━━━━━━━\u001B[0m\u001B[37m\u001B[0m \u001B[1m22s\u001B[0m 622ms/step - accuracy: 0.8804 - auc: 0.9233 - fn: 16.7568 - fp: 855.4595 - loss: 0.2687 - prc: 0.2351 - precision: 0.1172 - recall: 0.8725\n",
      "Epoch 10/10\n",
      "\u001B[1m36/36\u001B[0m \u001B[32m━━━━━━━━━━━━━━━━━━━━\u001B[0m\u001B[37m\u001B[0m \u001B[1m23s\u001B[0m 630ms/step - accuracy: 0.8845 - auc: 0.9304 - fn: 14.6216 - fp: 848.4324 - loss: 0.2543 - prc: 0.2207 - precision: 0.1194 - recall: 0.9048\n"
     ]
    },
    {
     "data": {
      "text/plain": [
       "<Figure size 500x500 with 1 Axes>"
      ],
      "image/png": "[encoded data removed]"
     },
     "metadata": {},
     "output_type": "display_data"
    }
   ],
   "execution_count": 35
  },
  {
   "cell_type": "code",
   "id": "e212fde3815b3bb9",
   "metadata": {},
   "source": [
    "# Exemplo de inferência\n",
    "novo_X = [['desenvolvedor', 'web', 'java','junior']]\n",
    "novo_X = list(map(lambda sentence: [word2idx.get(token) for token in sentence], novo_X))\n",
    "novo_X = pad_sequences(novo_X, maxlen=maxlen, padding='post')\n",
    "y_pred = model.predict(novo_X, batch_size=1)[0]\n",
    "y_pred"
   ],
   "outputs": [],
   "execution_count": null
  },
  {
   "cell_type": "code",
   "id": "40ee5d889d09103e",
   "metadata": {
    "ExecuteTime": {
     "end_time": "2024-09-20T22:48:52.012936Z",
     "start_time": "2024-09-20T22:48:50.660063Z"
    }
   },
   "source": [
    "model.save(\"model.keras\")"
   ],
   "outputs": [],
   "execution_count": 36
  }
 ],
 "metadata": {
  "kernelspec": {
   "display_name": "Python 3 (ipykernel)",
   "language": "python",
   "name": "python3"
  },
  "language_info": {
   "codemirror_mode": {
    "name": "ipython",
    "version": 3
   },
   "file_extension": ".py",
   "mimetype": "text/x-python",
   "name": "python",
   "nbconvert_exporter": "python",
   "pygments_lexer": "ipython3",
   "version": "3.11.9"
  }
 },
 "nbformat": 4,
 "nbformat_minor": 5
}
