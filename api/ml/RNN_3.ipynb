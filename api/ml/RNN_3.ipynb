{
 "cells": [
  {
   "metadata": {
    "ExecuteTime": {
     "end_time": "2024-11-08T10:57:52.089009Z",
     "start_time": "2024-11-08T10:57:52.055037Z"
    }
   },
   "cell_type": "code",
   "source": [
    "import matplotlib.pyplot as plt\n",
    "import urllib.request, json\n",
    "import tensorflow as tf\n",
    "import numpy as np\n",
    "import pandas\n",
    "from collections import Counter\n",
    "\n",
    "from fontTools.misc.cython import returns\n",
    "from markdown_it.rules_core.normalize import NULL_RE\n",
    "from tensorflow.keras.layers import Embedding, Dense, SimpleRNN\n",
    "from tensorflow.keras.losses import BinaryCrossentropy\n",
    "from tensorflow.keras.models import Sequential\n",
    "from tensorflow.keras.optimizers import Adam\n",
    "from tensorflow.keras.optimizers import SGD\n",
    "from tensorflow.keras.preprocessing.sequence import pad_sequences\n",
    "from nltk.tokenize import RegexpTokenizer\n",
    "from tensorflow.python.ops.gen_special_math_ops import bessel_y0_eager_fallback\n",
    "\n",
    "tokenizer = RegexpTokenizer(r'\\w+')\n",
    "import pickle"
   ],
   "id": "a848c5a21a3af2c8",
   "outputs": [],
   "execution_count": 6
  },
  {
   "cell_type": "code",
   "id": "1e5a979e0177df7c",
   "metadata": {
    "ExecuteTime": {
     "end_time": "2024-11-08T11:00:47.555350Z",
     "start_time": "2024-11-08T11:00:47.550527Z"
    }
   },
   "source": [
    "print(\"Num GPUs Available: \", len(tf.config.list_physical_devices(\"GPU\")))\n",
    "gpus = tf.config.experimental.list_physical_devices('GPU')\n",
    "for gpu in gpus:\n",
    "    tf.config.experimental.set_memory_growth(gpu, True)\n",
    "    \n",
    "plt.rcParams['figure.figsize'] = (8, 8)\n",
    "plt.rc('font', size=8)"
   ],
   "outputs": [
    {
     "name": "stdout",
     "output_type": "stream",
     "text": [
      "Num GPUs Available:  1\n"
     ]
    }
   ],
   "execution_count": 16
  },
  {
   "metadata": {
    "ExecuteTime": {
     "end_time": "2024-11-08T10:57:58.406646Z",
     "start_time": "2024-11-08T10:57:58.398847Z"
    }
   },
   "cell_type": "code",
   "source": [
    "def converteTextoParaTokens(texto : str):\n",
    "    tokens = list(map(lambda x: str(x).lower(), tokenizer.tokenize(texto)))\n",
    "    for i in range(len(tokens)):\n",
    "        if tokens[i].isdigit():\n",
    "            tokens[i] = \"num\"\n",
    "    return tokens"
   ],
   "id": "724f93ad83fd503a",
   "outputs": [],
   "execution_count": 8
  },
  {
   "cell_type": "code",
   "id": "4430858687d6b68d",
   "metadata": {
    "ExecuteTime": {
     "end_time": "2024-10-03T01:07:25.901121Z",
     "start_time": "2024-10-03T01:07:19.542821Z"
    }
   },
   "source": [
    "'''\n",
    "res = urllib.request.urlopen(\"http://127.0.0.1:8000/api/vagas?treinamento=true\")\n",
    "data = json.loads(res.read())\n",
    "exemplos_treinamento = data['data']\n",
    "qtd_pos = data['qtd_pos']\n",
    "qtd_neg = data['qtd_neg']\n",
    "\n",
    "pickle.dump(exemplos_treinamento, file = open(\"exemplos.pickle\", \"wb\"))\n",
    "pickle.dump(qtd_pos, file = open(\"qtd_pos.pickle\", \"wb\"))\n",
    "pickle.dump(qtd_neg, file = open(\"qtd_neg.pickle\", \"wb\"))\n",
    "'''"
   ],
   "outputs": [],
   "execution_count": 5
  },
  {
   "metadata": {
    "ExecuteTime": {
     "end_time": "2024-11-08T10:58:01.539986Z",
     "start_time": "2024-11-08T10:58:01.508091Z"
    }
   },
   "cell_type": "code",
   "source": [
    "exemplos_treinamento = pickle.load(open(\"exemplos.pickle\", \"rb\"))\n",
    "qtd_pos = pickle.load(open(\"qtd_pos.pickle\", \"rb\"))\n",
    "qtd_neg = pickle.load(open(\"qtd_neg.pickle\", \"rb\"))"
   ],
   "id": "9474ad6bb67883d4",
   "outputs": [],
   "execution_count": 9
  },
  {
   "metadata": {
    "ExecuteTime": {
     "end_time": "2024-11-08T10:58:03.540653Z",
     "start_time": "2024-11-08T10:58:03.354379Z"
    }
   },
   "cell_type": "code",
   "source": [
    "from collections import OrderedDict\n",
    "\n",
    "histograma = []\n",
    "\n",
    "for exemplo in exemplos_treinamento:\n",
    "    txtVaga = exemplo['txtVaga']\n",
    "    tokens = converteTextoParaTokens(txtVaga)\n",
    "    histograma += tokens\n",
    "\n",
    "frequencia_tokens = Counter(histograma)\n",
    "frequencia_tokens = OrderedDict(frequencia_tokens.most_common())\n",
    "frequencia_tokens = {k: c for k, c in frequencia_tokens.items() if c > 5}\n",
    "print(len(frequencia_tokens))\n",
    "df = pandas.DataFrame.from_dict(frequencia_tokens, orient='index')\n",
    "#df.plot(kind='bar')"
   ],
   "id": "5c8a65f85181467",
   "outputs": [
    {
     "name": "stdout",
     "output_type": "stream",
     "text": [
      "1428\n"
     ]
    }
   ],
   "execution_count": 10
  },
  {
   "metadata": {
    "ExecuteTime": {
     "end_time": "2024-11-08T10:58:59.431287Z",
     "start_time": "2024-11-08T10:58:59.155195Z"
    }
   },
   "cell_type": "code",
   "source": [
    "sentences = []\n",
    "pos = []\n",
    "maxlen = 46\n",
    "\n",
    "for exemplo in exemplos_treinamento:\n",
    "    tokens = converteTextoParaTokens(exemplo['txtVaga'])\n",
    "    aplicacao = exemplo['isApplied']\n",
    "    sentences.append(tokens)\n",
    "    pos.append([int(bool(aplicacao))])\n",
    "    \n",
    "    if len(tokens) > maxlen:\n",
    "        maxlen = len(tokens)\n",
    "        print(\"Maxlen atualizado: \",  maxlen)"
   ],
   "id": "2ae32df69150c5b9",
   "outputs": [],
   "execution_count": 11
  },
  {
   "cell_type": "code",
   "id": "8b46bf2460c198f3",
   "metadata": {
    "ExecuteTime": {
     "end_time": "2024-11-08T10:59:26.863766Z",
     "start_time": "2024-11-08T10:59:26.064538Z"
    }
   },
   "source": [
    "UNKNOWN_IDX = len(frequencia_tokens) - 1\n",
    "word_list = ['<pad>'] + list(frequencia_tokens.keys()) + ['_UNKNOWN']\n",
    "word2idx = {word:idx for idx, word in enumerate(word_list)}\n",
    "idx2word = {idx:word for idx, word in enumerate(word_list)}\n",
    "pos_list = sorted(set(sum(pos, [])))\n",
    "pos2idx = {pos:idx for idx, pos in enumerate(pos_list)}\n",
    "idx2pos = {idx:pos for idx, pos in enumerate(pos_list)}\n",
    "X = list(map(lambda sentence: [word2idx.get(token) or UNKNOWN_IDX for token in sentence], sentences))\n",
    "y = list(map(lambda sentence: [pos2idx.get(token) for token in sentence], pos))\n",
    "X = pad_sequences(X, maxlen=maxlen, padding='post')\n",
    "X_mask = (X != 0).astype(np.float32)\n",
    "X_len = np.array(list((map(lambda sentence: len(sentence), sentences))), dtype=np.float32)\n",
    "y = pad_sequences(y, maxlen=1, padding='post')\n",
    "\n",
    "json_str = json.dumps(word2idx, ensure_ascii=False)\n",
    "json_str = json.loads(json_str)\n",
    "with open('char2idx.json', 'w', encoding='utf-8') as json_file:\n",
    "    json.dump(json_str, json_file, ensure_ascii=False)"
   ],
   "outputs": [],
   "execution_count": 12
  },
  {
   "cell_type": "code",
   "id": "ada235de31bb12a3",
   "metadata": {
    "ExecuteTime": {
     "end_time": "2024-11-08T11:45:22.668001Z",
     "start_time": "2024-11-08T11:44:18.839715Z"
    }
   },
   "source": [
    "num_classes = len(pos2idx)\n",
    "input_dim = len(word2idx)\n",
    "output_dim = len(word2idx)\n",
    "exemples_dim = len(sentences)\n",
    "batch_size = 1000\n",
    "epochs = 50\n",
    "\n",
    "optimizer = Adam()\n",
    "\n",
    "loss_function = BinaryCrossentropy()\n",
    "additional_metrics = [\n",
    "    tf.keras.metrics.FalsePositives(name='fp'),\n",
    "    tf.keras.metrics.FalseNegatives(name='fn'), \n",
    "    tf.keras.metrics.AUC(name='auc')\n",
    "]\n",
    "\n",
    "model = Sequential()\n",
    "model.add(Embedding(\n",
    "    input_dim=input_dim,\n",
    "    output_dim=output_dim,\n",
    "    mask_zero=True,\n",
    "    embeddings_initializer=tf.keras.initializers.random_normal\n",
    "))\n",
    "model.add(SimpleRNN(units=64))\n",
    "model.add(Dense(1, activation='sigmoid'))\n",
    "\n",
    "model.compile(optimizer=optimizer, loss=loss_function, metrics=additional_metrics)\n",
    "#model.summary()\n",
    "\n",
    "weight_for_0 = (1 / qtd_neg) * (exemples_dim / 2.0)\n",
    "weight_for_1 = (1 / qtd_pos) * (exemples_dim / 2.0)\n",
    "class_weight = {0: weight_for_0, 1: weight_for_1}\n",
    "\n",
    "history = model.fit(X, y, class_weight=class_weight, batch_size=batch_size, shuffle=True, epochs=epochs, verbose=True)\n",
    "\n",
    "plt.figure()\n",
    "plt.plot(history.history['fn'])\n",
    "plt.show()\n",
    "\n",
    "plt.figure()\n",
    "plt.plot(history.history['fp'])\n",
    "plt.show()"
   ],
   "outputs": [
    {
     "name": "stdout",
     "output_type": "stream",
     "text": [
      "Epoch 1/50\n",
      "\u001B[1m19/19\u001B[0m \u001B[32m━━━━━━━━━━━━━━━━━━━━\u001B[0m\u001B[37m\u001B[0m \u001B[1m5s\u001B[0m 97ms/step - auc: 0.7908 - fn: 33.7500 - fp: 2684.1001 - loss: 0.5333\n",
      "Epoch 2/50\n",
      "\u001B[1m19/19\u001B[0m \u001B[32m━━━━━━━━━━━━━━━━━━━━\u001B[0m\u001B[37m\u001B[0m \u001B[1m1s\u001B[0m 61ms/step - auc: 0.9629 - fn: 5.7500 - fp: 1282.9500 - loss: 0.2397\n",
      "Epoch 3/50\n",
      "\u001B[1m19/19\u001B[0m \u001B[32m━━━━━━━━━━━━━━━━━━━━\u001B[0m\u001B[37m\u001B[0m \u001B[1m1s\u001B[0m 62ms/step - auc: 0.9814 - fn: 4.9000 - fp: 817.4500 - loss: 0.1754\n",
      "Epoch 4/50\n",
      "\u001B[1m19/19\u001B[0m \u001B[32m━━━━━━━━━━━━━━━━━━━━\u001B[0m\u001B[37m\u001B[0m \u001B[1m1s\u001B[0m 62ms/step - auc: 0.9892 - fn: 3.5500 - fp: 526.7000 - loss: 0.1121\n",
      "Epoch 5/50\n",
      "\u001B[1m19/19\u001B[0m \u001B[32m━━━━━━━━━━━━━━━━━━━━\u001B[0m\u001B[37m\u001B[0m \u001B[1m1s\u001B[0m 62ms/step - auc: 0.9932 - fn: 2.1000 - fp: 458.5000 - loss: 0.0876\n",
      "Epoch 6/50\n",
      "\u001B[1m19/19\u001B[0m \u001B[32m━━━━━━━━━━━━━━━━━━━━\u001B[0m\u001B[37m\u001B[0m \u001B[1m1s\u001B[0m 61ms/step - auc: 0.9945 - fn: 1.2500 - fp: 324.4500 - loss: 0.0676\n",
      "Epoch 7/50\n",
      "\u001B[1m19/19\u001B[0m \u001B[32m━━━━━━━━━━━━━━━━━━━━\u001B[0m\u001B[37m\u001B[0m \u001B[1m1s\u001B[0m 61ms/step - auc: 0.9958 - fn: 0.0000e+00 - fp: 316.5500 - loss: 0.0627\n",
      "Epoch 8/50\n",
      "\u001B[1m19/19\u001B[0m \u001B[32m━━━━━━━━━━━━━━━━━━━━\u001B[0m\u001B[37m\u001B[0m \u001B[1m1s\u001B[0m 62ms/step - auc: 0.9965 - fn: 0.0000e+00 - fp: 248.9500 - loss: 0.0500\n",
      "Epoch 9/50\n",
      "\u001B[1m19/19\u001B[0m \u001B[32m━━━━━━━━━━━━━━━━━━━━\u001B[0m\u001B[37m\u001B[0m \u001B[1m1s\u001B[0m 61ms/step - auc: 0.9971 - fn: 0.4500 - fp: 207.2500 - loss: 0.0440\n",
      "Epoch 10/50\n",
      "\u001B[1m19/19\u001B[0m \u001B[32m━━━━━━━━━━━━━━━━━━━━\u001B[0m\u001B[37m\u001B[0m \u001B[1m1s\u001B[0m 62ms/step - auc: 0.9955 - fn: 1.3500 - fp: 320.8000 - loss: 0.0581\n",
      "Epoch 11/50\n",
      "\u001B[1m19/19\u001B[0m \u001B[32m━━━━━━━━━━━━━━━━━━━━\u001B[0m\u001B[37m\u001B[0m \u001B[1m1s\u001B[0m 62ms/step - auc: 0.9951 - fn: 2.1000 - fp: 272.0500 - loss: 0.0642\n",
      "Epoch 12/50\n",
      "\u001B[1m19/19\u001B[0m \u001B[32m━━━━━━━━━━━━━━━━━━━━\u001B[0m\u001B[37m\u001B[0m \u001B[1m1s\u001B[0m 61ms/step - auc: 0.9959 - fn: 0.7000 - fp: 364.6000 - loss: 0.0617\n",
      "Epoch 13/50\n",
      "\u001B[1m19/19\u001B[0m \u001B[32m━━━━━━━━━━━━━━━━━━━━\u001B[0m\u001B[37m\u001B[0m \u001B[1m1s\u001B[0m 62ms/step - auc: 0.9962 - fn: 0.8000 - fp: 278.7000 - loss: 0.0584\n",
      "Epoch 14/50\n",
      "\u001B[1m19/19\u001B[0m \u001B[32m━━━━━━━━━━━━━━━━━━━━\u001B[0m\u001B[37m\u001B[0m \u001B[1m1s\u001B[0m 62ms/step - auc: 0.9978 - fn: 0.5500 - fp: 234.9000 - loss: 0.0431\n",
      "Epoch 15/50\n",
      "\u001B[1m19/19\u001B[0m \u001B[32m━━━━━━━━━━━━━━━━━━━━\u001B[0m\u001B[37m\u001B[0m \u001B[1m1s\u001B[0m 62ms/step - auc: 0.9971 - fn: 0.0000e+00 - fp: 215.5000 - loss: 0.0448\n",
      "Epoch 16/50\n",
      "\u001B[1m19/19\u001B[0m \u001B[32m━━━━━━━━━━━━━━━━━━━━\u001B[0m\u001B[37m\u001B[0m \u001B[1m1s\u001B[0m 62ms/step - auc: 0.9986 - fn: 0.0000e+00 - fp: 129.9000 - loss: 0.0260\n",
      "Epoch 17/50\n",
      "\u001B[1m19/19\u001B[0m \u001B[32m━━━━━━━━━━━━━━━━━━━━\u001B[0m\u001B[37m\u001B[0m \u001B[1m1s\u001B[0m 62ms/step - auc: 0.9989 - fn: 0.0000e+00 - fp: 111.1500 - loss: 0.0235\n",
      "Epoch 18/50\n",
      "\u001B[1m19/19\u001B[0m \u001B[32m━━━━━━━━━━━━━━━━━━━━\u001B[0m\u001B[37m\u001B[0m \u001B[1m1s\u001B[0m 62ms/step - auc: 0.9989 - fn: 0.4500 - fp: 107.5500 - loss: 0.0219\n",
      "Epoch 19/50\n",
      "\u001B[1m19/19\u001B[0m \u001B[32m━━━━━━━━━━━━━━━━━━━━\u001B[0m\u001B[37m\u001B[0m \u001B[1m1s\u001B[0m 61ms/step - auc: 0.9989 - fn: 0.0000e+00 - fp: 97.1500 - loss: 0.0211\n",
      "Epoch 20/50\n",
      "\u001B[1m19/19\u001B[0m \u001B[32m━━━━━━━━━━━━━━━━━━━━\u001B[0m\u001B[37m\u001B[0m \u001B[1m1s\u001B[0m 62ms/step - auc: 0.9986 - fn: 0.4000 - fp: 133.9500 - loss: 0.0286\n",
      "Epoch 21/50\n",
      "\u001B[1m19/19\u001B[0m \u001B[32m━━━━━━━━━━━━━━━━━━━━\u001B[0m\u001B[37m\u001B[0m \u001B[1m1s\u001B[0m 62ms/step - auc: 0.9986 - fn: 0.8000 - fp: 144.0000 - loss: 0.0289\n",
      "Epoch 22/50\n",
      "\u001B[1m19/19\u001B[0m \u001B[32m━━━━━━━━━━━━━━━━━━━━\u001B[0m\u001B[37m\u001B[0m \u001B[1m1s\u001B[0m 62ms/step - auc: 0.9989 - fn: 0.0000e+00 - fp: 106.3500 - loss: 0.0210\n",
      "Epoch 23/50\n",
      "\u001B[1m19/19\u001B[0m \u001B[32m━━━━━━━━━━━━━━━━━━━━\u001B[0m\u001B[37m\u001B[0m \u001B[1m1s\u001B[0m 62ms/step - auc: 0.9991 - fn: 0.0000e+00 - fp: 82.6500 - loss: 0.0181\n",
      "Epoch 24/50\n",
      "\u001B[1m19/19\u001B[0m \u001B[32m━━━━━━━━━━━━━━━━━━━━\u001B[0m\u001B[37m\u001B[0m \u001B[1m1s\u001B[0m 62ms/step - auc: 0.9994 - fn: 0.0000e+00 - fp: 66.6000 - loss: 0.0140\n",
      "Epoch 25/50\n",
      "\u001B[1m19/19\u001B[0m \u001B[32m━━━━━━━━━━━━━━━━━━━━\u001B[0m\u001B[37m\u001B[0m \u001B[1m1s\u001B[0m 62ms/step - auc: 0.9993 - fn: 0.0000e+00 - fp: 67.0500 - loss: 0.0155\n",
      "Epoch 26/50\n",
      "\u001B[1m19/19\u001B[0m \u001B[32m━━━━━━━━━━━━━━━━━━━━\u001B[0m\u001B[37m\u001B[0m \u001B[1m1s\u001B[0m 62ms/step - auc: 0.9994 - fn: 0.1000 - fp: 57.1000 - loss: 0.0120    \n",
      "Epoch 27/50\n",
      "\u001B[1m19/19\u001B[0m \u001B[32m━━━━━━━━━━━━━━━━━━━━\u001B[0m\u001B[37m\u001B[0m \u001B[1m1s\u001B[0m 62ms/step - auc: 0.9990 - fn: 0.0000e+00 - fp: 114.1500 - loss: 0.0204\n",
      "Epoch 28/50\n",
      "\u001B[1m19/19\u001B[0m \u001B[32m━━━━━━━━━━━━━━━━━━━━\u001B[0m\u001B[37m\u001B[0m \u001B[1m1s\u001B[0m 62ms/step - auc: 0.9983 - fn: 0.0000e+00 - fp: 108.5500 - loss: 0.0260\n",
      "Epoch 29/50\n",
      "\u001B[1m19/19\u001B[0m \u001B[32m━━━━━━━━━━━━━━━━━━━━\u001B[0m\u001B[37m\u001B[0m \u001B[1m1s\u001B[0m 62ms/step - auc: 0.9990 - fn: 0.0000e+00 - fp: 75.8500 - loss: 0.0174\n",
      "Epoch 30/50\n",
      "\u001B[1m19/19\u001B[0m \u001B[32m━━━━━━━━━━━━━━━━━━━━\u001B[0m\u001B[37m\u001B[0m \u001B[1m1s\u001B[0m 62ms/step - auc: 0.9995 - fn: 0.0000e+00 - fp: 59.2500 - loss: 0.0120\n",
      "Epoch 31/50\n",
      "\u001B[1m19/19\u001B[0m \u001B[32m━━━━━━━━━━━━━━━━━━━━\u001B[0m\u001B[37m\u001B[0m \u001B[1m1s\u001B[0m 62ms/step - auc: 0.9993 - fn: 0.1500 - fp: 49.9500 - loss: 0.0125\n",
      "Epoch 32/50\n",
      "\u001B[1m19/19\u001B[0m \u001B[32m━━━━━━━━━━━━━━━━━━━━\u001B[0m\u001B[37m\u001B[0m \u001B[1m1s\u001B[0m 62ms/step - auc: 0.9990 - fn: 0.0000e+00 - fp: 93.0000 - loss: 0.0167\n",
      "Epoch 33/50\n",
      "\u001B[1m19/19\u001B[0m \u001B[32m━━━━━━━━━━━━━━━━━━━━\u001B[0m\u001B[37m\u001B[0m \u001B[1m1s\u001B[0m 62ms/step - auc: 0.9989 - fn: 0.0000e+00 - fp: 112.5000 - loss: 0.0214\n",
      "Epoch 34/50\n",
      "\u001B[1m19/19\u001B[0m \u001B[32m━━━━━━━━━━━━━━━━━━━━\u001B[0m\u001B[37m\u001B[0m \u001B[1m1s\u001B[0m 62ms/step - auc: 0.9988 - fn: 0.0000e+00 - fp: 67.1500 - loss: 0.0155\n",
      "Epoch 35/50\n",
      "\u001B[1m19/19\u001B[0m \u001B[32m━━━━━━━━━━━━━━━━━━━━\u001B[0m\u001B[37m\u001B[0m \u001B[1m1s\u001B[0m 62ms/step - auc: 0.9995 - fn: 0.0000e+00 - fp: 41.4000 - loss: 0.0101\n",
      "Epoch 36/50\n",
      "\u001B[1m19/19\u001B[0m \u001B[32m━━━━━━━━━━━━━━━━━━━━\u001B[0m\u001B[37m\u001B[0m \u001B[1m1s\u001B[0m 60ms/step - auc: 0.9997 - fn: 0.0000e+00 - fp: 59.0000 - loss: 0.0099\n",
      "Epoch 37/50\n",
      "\u001B[1m19/19\u001B[0m \u001B[32m━━━━━━━━━━━━━━━━━━━━\u001B[0m\u001B[37m\u001B[0m \u001B[1m1s\u001B[0m 62ms/step - auc: 0.9998 - fn: 0.4500 - fp: 38.1000 - loss: 0.0085\n",
      "Epoch 38/50\n",
      "\u001B[1m19/19\u001B[0m \u001B[32m━━━━━━━━━━━━━━━━━━━━\u001B[0m\u001B[37m\u001B[0m \u001B[1m1s\u001B[0m 62ms/step - auc: 0.9995 - fn: 0.0000e+00 - fp: 72.4500 - loss: 0.0142\n",
      "Epoch 39/50\n",
      "\u001B[1m19/19\u001B[0m \u001B[32m━━━━━━━━━━━━━━━━━━━━\u001B[0m\u001B[37m\u001B[0m \u001B[1m1s\u001B[0m 62ms/step - auc: 0.9997 - fn: 0.0000e+00 - fp: 52.5000 - loss: 0.0103\n",
      "Epoch 40/50\n",
      "\u001B[1m19/19\u001B[0m \u001B[32m━━━━━━━━━━━━━━━━━━━━\u001B[0m\u001B[37m\u001B[0m \u001B[1m1s\u001B[0m 62ms/step - auc: 0.9996 - fn: 0.0000e+00 - fp: 27.3000 - loss: 0.0083\n",
      "Epoch 41/50\n",
      "\u001B[1m19/19\u001B[0m \u001B[32m━━━━━━━━━━━━━━━━━━━━\u001B[0m\u001B[37m\u001B[0m \u001B[1m1s\u001B[0m 62ms/step - auc: 0.9996 - fn: 0.0000e+00 - fp: 29.8000 - loss: 0.0066\n",
      "Epoch 42/50\n",
      "\u001B[1m19/19\u001B[0m \u001B[32m━━━━━━━━━━━━━━━━━━━━\u001B[0m\u001B[37m\u001B[0m \u001B[1m1s\u001B[0m 62ms/step - auc: 0.9998 - fn: 0.0000e+00 - fp: 23.6000 - loss: 0.0057\n",
      "Epoch 43/50\n",
      "\u001B[1m19/19\u001B[0m \u001B[32m━━━━━━━━━━━━━━━━━━━━\u001B[0m\u001B[37m\u001B[0m \u001B[1m1s\u001B[0m 62ms/step - auc: 0.9999 - fn: 0.0000e+00 - fp: 23.1500 - loss: 0.0051\n",
      "Epoch 44/50\n",
      "\u001B[1m19/19\u001B[0m \u001B[32m━━━━━━━━━━━━━━━━━━━━\u001B[0m\u001B[37m\u001B[0m \u001B[1m1s\u001B[0m 62ms/step - auc: 0.9998 - fn: 0.0000e+00 - fp: 23.7000 - loss: 0.0055\n",
      "Epoch 45/50\n",
      "\u001B[1m19/19\u001B[0m \u001B[32m━━━━━━━━━━━━━━━━━━━━\u001B[0m\u001B[37m\u001B[0m \u001B[1m1s\u001B[0m 62ms/step - auc: 0.9999 - fn: 0.0000e+00 - fp: 18.4500 - loss: 0.0050\n",
      "Epoch 46/50\n",
      "\u001B[1m19/19\u001B[0m \u001B[32m━━━━━━━━━━━━━━━━━━━━\u001B[0m\u001B[37m\u001B[0m \u001B[1m1s\u001B[0m 62ms/step - auc: 0.9999 - fn: 0.0000e+00 - fp: 20.3000 - loss: 0.0050\n",
      "Epoch 47/50\n",
      "\u001B[1m19/19\u001B[0m \u001B[32m━━━━━━━━━━━━━━━━━━━━\u001B[0m\u001B[37m\u001B[0m \u001B[1m1s\u001B[0m 62ms/step - auc: 0.9999 - fn: 0.0000e+00 - fp: 13.2000 - loss: 0.0039\n",
      "Epoch 48/50\n",
      "\u001B[1m19/19\u001B[0m \u001B[32m━━━━━━━━━━━━━━━━━━━━\u001B[0m\u001B[37m\u001B[0m \u001B[1m1s\u001B[0m 62ms/step - auc: 0.9998 - fn: 0.0000e+00 - fp: 15.2500 - loss: 0.0041\n",
      "Epoch 49/50\n",
      "\u001B[1m19/19\u001B[0m \u001B[32m━━━━━━━━━━━━━━━━━━━━\u001B[0m\u001B[37m\u001B[0m \u001B[1m1s\u001B[0m 62ms/step - auc: 0.9999 - fn: 0.0000e+00 - fp: 12.7000 - loss: 0.0038\n",
      "Epoch 50/50\n",
      "\u001B[1m19/19\u001B[0m \u001B[32m━━━━━━━━━━━━━━━━━━━━\u001B[0m\u001B[37m\u001B[0m \u001B[1m1s\u001B[0m 62ms/step - auc: 0.9998 - fn: 0.0000e+00 - fp: 14.6500 - loss: 0.0041\n"
     ]
    },
    {
     "data": {
      "text/plain": [
       "<Figure size 800x800 with 1 Axes>"
      ],
      "image/png": "[encoded data removed]"
     },
     "metadata": {},
     "output_type": "display_data"
    },
    {
     "data": {
      "text/plain": [
       "<Figure size 800x800 with 1 Axes>"
      ],
      "image/png": "[encoded data removed]"
     },
     "metadata": {},
     "output_type": "display_data"
    }
   ],
   "execution_count": 32
  },
  {
   "cell_type": "code",
   "id": "40ee5d889d09103e",
   "metadata": {
    "ExecuteTime": {
     "end_time": "2024-11-08T11:45:36.703300Z",
     "start_time": "2024-11-08T11:45:36.571010Z"
    }
   },
   "source": [
    "model.save(\"model.keras\")"
   ],
   "outputs": [],
   "execution_count": 33
  },
  {
   "metadata": {
    "ExecuteTime": {
     "end_time": "2024-11-08T11:19:31.104587Z",
     "start_time": "2024-11-08T11:19:31.100378Z"
    }
   },
   "cell_type": "code",
   "source": "",
   "id": "96daa89b7141f37c",
   "outputs": [
    {
     "name": "stderr",
     "output_type": "stream",
     "text": [
      "UsageError: Line magic function `%tensorboard` not found.\n"
     ]
    }
   ],
   "execution_count": 25
  }
 ],
 "metadata": {
  "kernelspec": {
   "display_name": "Python 3 (ipykernel)",
   "language": "python",
   "name": "python3"
  },
  "language_info": {
   "codemirror_mode": {
    "name": "ipython",
    "version": 3
   },
   "file_extension": ".py",
   "mimetype": "text/x-python",
   "name": "python",
   "nbconvert_exporter": "python",
   "pygments_lexer": "ipython3",
   "version": "3.11.9"
  }
 },
 "nbformat": 4,
 "nbformat_minor": 5
}
