{
 "cells": [
  {
   "metadata": {},
   "cell_type": "code",
   "source": [
    "import matplotlib.pyplot as plt\n",
    "import urllib.request, json\n",
    "import tensorflow as tf\n",
    "import numpy as np\n",
    "\n",
    "from tensorflow.keras.layers import Embedding, Dense, SimpleRNN\n",
    "from tensorflow.keras.losses import BinaryCrossentropy\n",
    "from tensorflow.keras.models import Sequential\n",
    "from tensorflow.keras.optimizers import Adam\n",
    "from tensorflow.keras.preprocessing.sequence import pad_sequences\n",
    "from nltk.tokenize import RegexpTokenizer\n",
    "tokenizer = RegexpTokenizer(r'\\w+')\n",
    "import pickle"
   ],
   "id": "a848c5a21a3af2c8",
   "outputs": [],
   "execution_count": null
  },
  {
   "cell_type": "code",
   "id": "1e5a979e0177df7c",
   "metadata": {},
   "source": [
    "print(\"Num GPUs Available: \", len(tf.config.list_physical_devices(\"GPU\")))\n",
    "gpus = tf.config.experimental.list_physical_devices('GPU')\n",
    "for gpu in gpus:\n",
    "    tf.config.experimental.set_memory_growth(gpu, True)\n",
    "    \n",
    "plt.rcParams['figure.figsize'] = (5, 5)\n",
    "plt.rc('font', size=5)"
   ],
   "outputs": [],
   "execution_count": null
  },
  {
   "cell_type": "code",
   "id": "4430858687d6b68d",
   "metadata": {},
   "source": [
    "res = urllib.request.urlopen(\"http://127.0.0.1:8000/api/vagas?treinamento=true\")\n",
    "data = json.loads(res.read())\n",
    "exemplos_treinamento = data['data']\n",
    "qtd_pos = data['qtd_pos']\n",
    "qtd_neg = data['qtd_neg']\n",
    "\n",
    "pickle.dump(exemplos_treinamento, file = open(\"exemplos.pickle\", \"wb\"))\n",
    "pickle.dump(qtd_pos, file = open(\"qtd_pos.pickle\", \"wb\"))\n",
    "pickle.dump(qtd_neg, file = open(\"qtd_neg.pickle\", \"wb\"))"
   ],
   "outputs": [],
   "execution_count": null
  },
  {
   "metadata": {},
   "cell_type": "code",
   "source": [
    "exemplos_treinamento = pickle.load(open(\"exemplos.pickle\", \"rb\"))\n",
    "qtd_pos = pickle.load(open(\"qtd_pos.pickle\", \"rb\"))\n",
    "qtd_neg = pickle.load(open(\"qtd_neg.pickle\", \"rb\"))"
   ],
   "id": "9474ad6bb67883d4",
   "outputs": [],
   "execution_count": null
  },
  {
   "metadata": {},
   "cell_type": "code",
   "source": [
    "sentences = []\n",
    "pos = []\n",
    "maxlen = 46\n",
    "\n",
    "def converteTextoParaTokens(texto : str):\n",
    "    tokens = list(map(lambda x: str(x).lower(), tokenizer.tokenize(texto)))\n",
    "    for i in range(len(tokens)):\n",
    "        if tokens[i].isdigit():\n",
    "            tokens[i] = \"num\"\n",
    "    return tokens\n",
    "\n",
    "for exemplo in exemplos_treinamento:\n",
    "    tokens = converteTextoParaTokens(exemplo['txtVaga'])\n",
    "    aplicacao = exemplo['isApplied']\n",
    "    sentences.append(tokens)\n",
    "    pos.append([int(bool(aplicacao))])\n",
    "    \n",
    "    if len(tokens) > maxlen:\n",
    "        maxlen = len(tokens)\n",
    "        print(\"Maxlen atualizado: \",  maxlen)"
   ],
   "id": "2ae32df69150c5b9",
   "outputs": [],
   "execution_count": null
  },
  {
   "cell_type": "code",
   "id": "8b46bf2460c198f3",
   "metadata": {},
   "source": [
    "word_list = ['<pad>'] + sorted(set(sum(sentences, []))) + ['_UNKNOWN']\n",
    "word2idx = {word:idx for idx, word in enumerate(word_list)}\n",
    "idx2word = {idx:word for idx, word in enumerate(word_list)}\n",
    "pos_list = sorted(set(sum(pos, [])))\n",
    "pos2idx = {pos:idx for idx, pos in enumerate(pos_list)}\n",
    "idx2pos = {idx:pos for idx, pos in enumerate(pos_list)}\n",
    "X = list(map(lambda sentence: [word2idx.get(token) for token in sentence], sentences))\n",
    "y = list(map(lambda sentence: [pos2idx.get(token) for token in sentence], pos))\n",
    "X = pad_sequences(X, maxlen=maxlen, padding='post')\n",
    "X_mask = (X != 0).astype(np.float32)\n",
    "X_len = np.array(list((map(lambda sentence: len(sentence), sentences))), dtype=np.float32)\n",
    "y = pad_sequences(y, maxlen=1, padding='post')\n",
    "\n",
    "json_str = json.dumps(word2idx, ensure_ascii=False)\n",
    "json_str = json.loads(json_str)\n",
    "with open('char2idx.json', 'w', encoding='utf-8') as json_file:\n",
    "    json.dump(json_str, json_file, ensure_ascii=False)"
   ],
   "outputs": [],
   "execution_count": null
  },
  {
   "cell_type": "code",
   "id": "ada235de31bb12a3",
   "metadata": {},
   "source": [
    "num_classes = len(pos2idx)\n",
    "input_dim = len(word2idx)\n",
    "output_dim = len(word2idx)\n",
    "exemples_dim = len(sentences)\n",
    "batch_size = 390\n",
    "epochs = 15\n",
    "\n",
    "optimizer = Adam()\n",
    "\n",
    "loss_function = BinaryCrossentropy()\n",
    "additional_metrics = [\n",
    "    tf.keras.metrics.FalsePositives(name='fp'),\n",
    "    tf.keras.metrics.FalseNegatives(name='fn'), \n",
    "    tf.keras.metrics.BinaryAccuracy(name='accuracy')\n",
    "]\n",
    "\n",
    "model = Sequential()\n",
    "model.add(Embedding(\n",
    "    input_dim=input_dim,\n",
    "    output_dim=output_dim,\n",
    "    mask_zero=True,\n",
    "    embeddings_initializer=tf.keras.initializers.random_normal\n",
    "))\n",
    "model.add(SimpleRNN(units=2))\n",
    "model.add(Dense(1, activation='sigmoid'))\n",
    "\n",
    "model.compile(optimizer=optimizer, loss=loss_function, metrics=additional_metrics)\n",
    "#model.summary()\n",
    "\n",
    "weight_for_0 = (1 / qtd_neg) * (exemples_dim / 2.0)\n",
    "weight_for_1 = (1 / qtd_pos) * (exemples_dim / 2.0)\n",
    "class_weight = {0: weight_for_0, 1: weight_for_1}\n",
    "\n",
    "history = model.fit(X, y, class_weight=class_weight, batch_size=batch_size, shuffle=True, epochs=epochs, verbose=True)\n",
    "\n",
    "plt.figure()\n",
    "plt.plot(history.history['fn'])\n",
    "plt.show()\n",
    "\n",
    "plt.figure()\n",
    "plt.plot(history.history['fp'])\n",
    "plt.show()"
   ],
   "outputs": [],
   "execution_count": null
  },
  {
   "cell_type": "code",
   "id": "40ee5d889d09103e",
   "metadata": {},
   "source": [
    "model.save(\"model.keras\")"
   ],
   "outputs": [],
   "execution_count": null
  }
 ],
 "metadata": {
  "kernelspec": {
   "display_name": "Python 3 (ipykernel)",
   "language": "python",
   "name": "python3"
  },
  "language_info": {
   "codemirror_mode": {
    "name": "ipython",
    "version": 3
   },
   "file_extension": ".py",
   "mimetype": "text/x-python",
   "name": "python",
   "nbconvert_exporter": "python",
   "pygments_lexer": "ipython3",
   "version": "3.11.9"
  }
 },
 "nbformat": 4,
 "nbformat_minor": 5
}
