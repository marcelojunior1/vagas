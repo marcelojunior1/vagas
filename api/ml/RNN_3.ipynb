{
 "cells": [
  {
   "metadata": {
    "ExecuteTime": {
     "end_time": "2024-11-21T08:16:26.938799Z",
     "start_time": "2024-11-21T08:16:22.048572Z"
    }
   },
   "cell_type": "code",
   "source": [
    "import matplotlib.pyplot as plt\n",
    "import urllib, json\n",
    "import tensorflow as tf\n",
    "import numpy as np\n",
    "import pandas\n",
    "from collections import Counter\n",
    "\n",
    "from tensorflow.keras.layers import Embedding, Dense, SimpleRNN\n",
    "from tensorflow.keras.losses import BinaryCrossentropy\n",
    "from tensorflow.keras.models import Sequential\n",
    "from tensorflow.keras.optimizers import Adam\n",
    "from tensorflow.keras.preprocessing.sequence import pad_sequences\n",
    "from nltk.tokenize import RegexpTokenizer\n",
    "\n",
    "tokenizer = RegexpTokenizer(r'\\w+')\n",
    "import pickle"
   ],
   "id": "a848c5a21a3af2c8",
   "outputs": [
    {
     "name": "stderr",
     "output_type": "stream",
     "text": [
      "2024-11-21 05:16:23.215229: E external/local_xla/xla/stream_executor/cuda/cuda_fft.cc:479] Unable to register cuFFT factory: Attempting to register factory for plugin cuFFT when one has already been registered\n",
      "2024-11-21 05:16:23.313592: E external/local_xla/xla/stream_executor/cuda/cuda_dnn.cc:10575] Unable to register cuDNN factory: Attempting to register factory for plugin cuDNN when one has already been registered\n",
      "2024-11-21 05:16:23.314276: E external/local_xla/xla/stream_executor/cuda/cuda_blas.cc:1442] Unable to register cuBLAS factory: Attempting to register factory for plugin cuBLAS when one has already been registered\n",
      "2024-11-21 05:16:23.453531: I tensorflow/core/platform/cpu_feature_guard.cc:210] This TensorFlow binary is optimized to use available CPU instructions in performance-critical operations.\n",
      "To enable the following instructions: AVX2 FMA, in other operations, rebuild TensorFlow with the appropriate compiler flags.\n",
      "2024-11-21 05:16:25.030168: W tensorflow/compiler/tf2tensorrt/utils/py_utils.cc:38] TF-TRT Warning: Could not find TensorRT\n"
     ]
    }
   ],
   "execution_count": 1
  },
  {
   "cell_type": "code",
   "id": "1e5a979e0177df7c",
   "metadata": {
    "ExecuteTime": {
     "end_time": "2024-11-21T08:16:51.714131Z",
     "start_time": "2024-11-21T08:16:49.927280Z"
    }
   },
   "source": [
    "print(\"Num GPUs Available: \", len(tf.config.list_physical_devices(\"GPU\")))\n",
    "gpus = tf.config.experimental.list_physical_devices('GPU')\n",
    "for gpu in gpus:\n",
    "    tf.config.experimental.set_memory_growth(gpu, True)\n",
    "    \n",
    "plt.rcParams['figure.figsize'] = (10, 10)\n",
    "plt.rc('font', size=8)"
   ],
   "outputs": [
    {
     "name": "stdout",
     "output_type": "stream",
     "text": [
      "Num GPUs Available:  0\n"
     ]
    },
    {
     "name": "stderr",
     "output_type": "stream",
     "text": [
      "2024-11-21 05:16:51.710120: E external/local_xla/xla/stream_executor/cuda/cuda_driver.cc:282] failed call to cuInit: CUDA_ERROR_NO_DEVICE: no CUDA-capable device is detected\n"
     ]
    }
   ],
   "execution_count": 2
  },
  {
   "metadata": {
    "ExecuteTime": {
     "end_time": "2024-11-21T08:16:52.985143Z",
     "start_time": "2024-11-21T08:16:52.977539Z"
    }
   },
   "cell_type": "code",
   "source": [
    "def converteTextoParaTokens(texto : str):\n",
    "    tokens = list(map(lambda x: str(x).lower(), tokenizer.tokenize(texto)))\n",
    "    for i in range(len(tokens)):\n",
    "        if tokens[i].isdigit():\n",
    "            tokens[i] = \"num\"\n",
    "    return tokens"
   ],
   "id": "724f93ad83fd503a",
   "outputs": [],
   "execution_count": 3
  },
  {
   "cell_type": "code",
   "id": "4430858687d6b68d",
   "metadata": {
    "ExecuteTime": {
     "end_time": "2024-11-21T08:16:55.401131Z",
     "start_time": "2024-11-21T08:16:55.395399Z"
    }
   },
   "source": [
    "def updateData():\n",
    "    res = urllib.request.urlopen(\"http://127.0.0.1:8000/api/vagas?treinamento=true\")\n",
    "    data = json.loads(res.read())\n",
    "    exemplos_treinamento = data['data']\n",
    "    qtd_pos = data['qtd_pos']\n",
    "    qtd_neg = data['qtd_neg']\n",
    "    \n",
    "    pickle.dump(exemplos_treinamento, file = open(\"exemplos.pickle\", \"wb\"))\n",
    "    pickle.dump(qtd_pos, file = open(\"qtd_pos.pickle\", \"wb\"))\n",
    "    pickle.dump(qtd_neg, file = open(\"qtd_neg.pickle\", \"wb\"))\n",
    "    "
   ],
   "outputs": [],
   "execution_count": 4
  },
  {
   "metadata": {
    "ExecuteTime": {
     "end_time": "2024-11-21T08:17:05.271381Z",
     "start_time": "2024-11-21T08:17:05.232557Z"
    }
   },
   "cell_type": "code",
   "source": [
    "exemplos_treinamento = pickle.load(open(\"exemplos.pickle\", \"rb\"))\n",
    "qtd_pos = pickle.load(open(\"qtd_pos.pickle\", \"rb\"))\n",
    "qtd_neg = pickle.load(open(\"qtd_neg.pickle\", \"rb\"))"
   ],
   "id": "9474ad6bb67883d4",
   "outputs": [],
   "execution_count": 5
  },
  {
   "metadata": {
    "ExecuteTime": {
     "end_time": "2024-11-21T08:17:18.330185Z",
     "start_time": "2024-11-21T08:17:18.089964Z"
    }
   },
   "cell_type": "code",
   "source": [
    "from collections import OrderedDict\n",
    "\n",
    "histograma = []\n",
    "\n",
    "for exemplo in exemplos_treinamento:\n",
    "    txtVaga = exemplo['txtVaga']\n",
    "    tokens = converteTextoParaTokens(txtVaga)\n",
    "    histograma += tokens\n",
    "\n",
    "frequencia_tokens = Counter(histograma)\n",
    "frequencia_tokens = OrderedDict(frequencia_tokens.most_common())\n",
    "frequencia_tokens = {k: c for k, c in frequencia_tokens.items() if c > 5}\n",
    "print(len(frequencia_tokens))\n",
    "df = pandas.DataFrame.from_dict(frequencia_tokens, orient='index')\n",
    "#df.plot(kind='bar')"
   ],
   "id": "5c8a65f85181467",
   "outputs": [
    {
     "name": "stdout",
     "output_type": "stream",
     "text": [
      "1511\n"
     ]
    }
   ],
   "execution_count": 6
  },
  {
   "metadata": {
    "ExecuteTime": {
     "end_time": "2024-11-21T08:17:21.441335Z",
     "start_time": "2024-11-21T08:17:21.248360Z"
    }
   },
   "cell_type": "code",
   "source": [
    "sentences = []\n",
    "pos = []\n",
    "maxlen = 46\n",
    "\n",
    "for exemplo in exemplos_treinamento:\n",
    "    tokens = converteTextoParaTokens(exemplo['txtVaga'])\n",
    "    aplicacao = exemplo['isApplied']\n",
    "    sentences.append(tokens)\n",
    "    pos.append([int(bool(aplicacao))])\n",
    "    \n",
    "    if len(tokens) > maxlen:\n",
    "        maxlen = len(tokens)\n",
    "        print(\"Maxlen atualizado: \",  maxlen)"
   ],
   "id": "2ae32df69150c5b9",
   "outputs": [],
   "execution_count": 7
  },
  {
   "cell_type": "code",
   "id": "8b46bf2460c198f3",
   "metadata": {
    "ExecuteTime": {
     "end_time": "2024-11-21T08:17:25.746128Z",
     "start_time": "2024-11-21T08:17:24.912015Z"
    }
   },
   "source": [
    "UNKNOWN_IDX = len(frequencia_tokens) - 1\n",
    "word_list = ['<pad>'] + list(frequencia_tokens.keys()) + ['_UNKNOWN']\n",
    "word2idx = {word:idx for idx, word in enumerate(word_list)}\n",
    "idx2word = {idx:word for idx, word in enumerate(word_list)}\n",
    "pos_list = sorted(set(sum(pos, [])))\n",
    "pos2idx = {pos:idx for idx, pos in enumerate(pos_list)}\n",
    "idx2pos = {idx:pos for idx, pos in enumerate(pos_list)}\n",
    "X = list(map(lambda sentence: [word2idx.get(token) or UNKNOWN_IDX for token in sentence], sentences))\n",
    "y = list(map(lambda sentence: [pos2idx.get(token) for token in sentence], pos))\n",
    "X = pad_sequences(X, maxlen=maxlen, padding='post')\n",
    "X_mask = (X != 0).astype(np.float32)\n",
    "X_len = np.array(list((map(lambda sentence: len(sentence), sentences))), dtype=np.float32)\n",
    "y = pad_sequences(y, maxlen=1, padding='post')\n",
    "\n",
    "json_str = json.dumps(word2idx, ensure_ascii=False)\n",
    "json_str = json.loads(json_str)\n",
    "with open('char2idx.json', 'w', encoding='utf-8') as json_file:\n",
    "    json.dump(json_str, json_file, ensure_ascii=False)"
   ],
   "outputs": [],
   "execution_count": 8
  },
  {
   "cell_type": "code",
   "id": "ada235de31bb12a3",
   "metadata": {
    "ExecuteTime": {
     "end_time": "2024-11-21T08:29:21.457518Z",
     "start_time": "2024-11-21T08:17:30.183478Z"
    }
   },
   "source": [
    "num_classes = len(pos2idx)\n",
    "input_dim = len(word2idx)\n",
    "output_dim = len(word2idx)\n",
    "exemples_dim = len(sentences)\n",
    "batch_size = 512\n",
    "epochs = 40\n",
    "\n",
    "optimizer = Adam()\n",
    "\n",
    "loss_function = BinaryCrossentropy()\n",
    "\n",
    "additional_metrics = [\n",
    "    tf.keras.metrics.FalsePositives(name='fp'),\n",
    "    tf.keras.metrics.FalseNegatives(name='fn'), \n",
    "    tf.keras.metrics.AUC(name='auc')\n",
    "]\n",
    "\n",
    "model = Sequential()\n",
    "model.add(Embedding(\n",
    "    input_dim=input_dim,\n",
    "    output_dim=output_dim,\n",
    "    mask_zero=True,\n",
    "    embeddings_initializer=tf.keras.initializers.random_normal\n",
    "))\n",
    "model.add(SimpleRNN(units=64))\n",
    "model.add(Dense(1, activation='sigmoid'))\n",
    "\n",
    "model.compile(optimizer=optimizer, loss=loss_function, metrics=additional_metrics)\n",
    "#model.summary()\n",
    "\n",
    "weight_for_0 = (1 / qtd_neg) * (exemples_dim / 2.0)\n",
    "weight_for_1 = (1 / qtd_pos) * (exemples_dim / 2.0)\n",
    "class_weight = {0: weight_for_0, 1: weight_for_1}\n",
    "\n",
    "history = model.fit(X, y, class_weight=class_weight, batch_size=batch_size, shuffle=True, epochs=epochs, verbose=True)\n",
    "\n",
    "plt.figure()\n",
    "plt.plot(history.history['fn'])\n",
    "plt.show()\n",
    "\n",
    "plt.figure()\n",
    "plt.plot(history.history['fp'])\n",
    "plt.show()"
   ],
   "outputs": [
    {
     "name": "stdout",
     "output_type": "stream",
     "text": [
      "Epoch 1/50\n"
     ]
    },
    {
     "name": "stderr",
     "output_type": "stream",
     "text": [
      "2024-11-21 05:17:32.587477: W external/local_tsl/tsl/framework/cpu_allocator_impl.cc:83] Allocation of 142536704 exceeds 10% of free system memory.\n",
      "2024-11-21 05:17:32.604221: W external/local_tsl/tsl/framework/cpu_allocator_impl.cc:83] Allocation of 142536704 exceeds 10% of free system memory.\n"
     ]
    },
    {
     "name": "stdout",
     "output_type": "stream",
     "text": [
      "\u001B[1m 1/40\u001B[0m \u001B[37m━━━━━━━━━━━━━━━━━━━━\u001B[0m \u001B[1m1:44\u001B[0m 3s/step - auc: 0.6359 - fn: 2.0000 - fp: 280.0000 - loss: 0.5712"
     ]
    },
    {
     "name": "stderr",
     "output_type": "stream",
     "text": [
      "2024-11-21 05:17:32.841859: W external/local_tsl/tsl/framework/cpu_allocator_impl.cc:83] Allocation of 142536704 exceeds 10% of free system memory.\n",
      "2024-11-21 05:17:32.870854: W external/local_tsl/tsl/framework/cpu_allocator_impl.cc:83] Allocation of 142536704 exceeds 10% of free system memory.\n",
      "2024-11-21 05:17:32.911274: W external/local_tsl/tsl/framework/cpu_allocator_impl.cc:83] Allocation of 142536704 exceeds 10% of free system memory.\n"
     ]
    },
    {
     "name": "stdout",
     "output_type": "stream",
     "text": [
      "\u001B[1m40/40\u001B[0m \u001B[32m━━━━━━━━━━━━━━━━━━━━\u001B[0m\u001B[37m\u001B[0m \u001B[1m14s\u001B[0m 289ms/step - auc: 0.7814 - fn: 42.3415 - fp: 2382.0000 - loss: 0.5340\n",
      "Epoch 2/50\n",
      "\u001B[1m40/40\u001B[0m \u001B[32m━━━━━━━━━━━━━━━━━━━━\u001B[0m\u001B[37m\u001B[0m \u001B[1m13s\u001B[0m 337ms/step - auc: 0.9648 - fn: 10.1220 - fp: 1241.6342 - loss: 0.2530\n",
      "Epoch 3/50\n",
      "\u001B[1m40/40\u001B[0m \u001B[32m━━━━━━━━━━━━━━━━━━━━\u001B[0m\u001B[37m\u001B[0m \u001B[1m20s\u001B[0m 515ms/step - auc: 0.9830 - fn: 2.7317 - fp: 758.8781 - loss: 0.1427\n",
      "Epoch 4/50\n",
      "\u001B[1m40/40\u001B[0m \u001B[32m━━━━━━━━━━━━━━━━━━━━\u001B[0m\u001B[37m\u001B[0m \u001B[1m18s\u001B[0m 454ms/step - auc: 0.9855 - fn: 3.5366 - fp: 784.4390 - loss: 0.1404\n",
      "Epoch 5/50\n",
      "\u001B[1m40/40\u001B[0m \u001B[32m━━━━━━━━━━━━━━━━━━━━\u001B[0m\u001B[37m\u001B[0m \u001B[1m21s\u001B[0m 519ms/step - auc: 0.9929 - fn: 2.6098 - fp: 481.6829 - loss: 0.0898\n",
      "Epoch 6/50\n",
      "\u001B[1m40/40\u001B[0m \u001B[32m━━━━━━━━━━━━━━━━━━━━\u001B[0m\u001B[37m\u001B[0m \u001B[1m21s\u001B[0m 523ms/step - auc: 0.9946 - fn: 0.9756 - fp: 345.7805 - loss: 0.0668\n",
      "Epoch 7/50\n",
      "\u001B[1m40/40\u001B[0m \u001B[32m━━━━━━━━━━━━━━━━━━━━\u001B[0m\u001B[37m\u001B[0m \u001B[1m18s\u001B[0m 458ms/step - auc: 0.9914 - fn: 1.2683 - fp: 475.1951 - loss: 0.0910\n",
      "Epoch 8/50\n",
      "\u001B[1m40/40\u001B[0m \u001B[32m━━━━━━━━━━━━━━━━━━━━\u001B[0m\u001B[37m\u001B[0m \u001B[1m18s\u001B[0m 385ms/step - auc: 0.9955 - fn: 1.2439 - fp: 303.6342 - loss: 0.0637\n",
      "Epoch 9/50\n",
      "\u001B[1m40/40\u001B[0m \u001B[32m━━━━━━━━━━━━━━━━━━━━\u001B[0m\u001B[37m\u001B[0m \u001B[1m14s\u001B[0m 338ms/step - auc: 0.9950 - fn: 0.6829 - fp: 341.5854 - loss: 0.0646\n",
      "Epoch 10/50\n",
      "\u001B[1m40/40\u001B[0m \u001B[32m━━━━━━━━━━━━━━━━━━━━\u001B[0m\u001B[37m\u001B[0m \u001B[1m14s\u001B[0m 343ms/step - auc: 0.9950 - fn: 0.8537 - fp: 340.4878 - loss: 0.0635\n",
      "Epoch 11/50\n",
      "\u001B[1m40/40\u001B[0m \u001B[32m━━━━━━━━━━━━━━━━━━━━\u001B[0m\u001B[37m\u001B[0m \u001B[1m15s\u001B[0m 381ms/step - auc: 0.9960 - fn: 1.3171 - fp: 319.0000 - loss: 0.0589\n",
      "Epoch 12/50\n",
      "\u001B[1m40/40\u001B[0m \u001B[32m━━━━━━━━━━━━━━━━━━━━\u001B[0m\u001B[37m\u001B[0m \u001B[1m15s\u001B[0m 361ms/step - auc: 0.9926 - fn: 2.1463 - fp: 538.1707 - loss: 0.1015\n",
      "Epoch 13/50\n",
      "\u001B[1m40/40\u001B[0m \u001B[32m━━━━━━━━━━━━━━━━━━━━\u001B[0m\u001B[37m\u001B[0m \u001B[1m14s\u001B[0m 341ms/step - auc: 0.9950 - fn: 0.6341 - fp: 317.4146 - loss: 0.0619\n",
      "Epoch 14/50\n",
      "\u001B[1m40/40\u001B[0m \u001B[32m━━━━━━━━━━━━━━━━━━━━\u001B[0m\u001B[37m\u001B[0m \u001B[1m14s\u001B[0m 357ms/step - auc: 0.9978 - fn: 0.0000e+00 - fp: 228.4634 - loss: 0.0420\n",
      "Epoch 15/50\n",
      "\u001B[1m40/40\u001B[0m \u001B[32m━━━━━━━━━━━━━━━━━━━━\u001B[0m\u001B[37m\u001B[0m \u001B[1m15s\u001B[0m 373ms/step - auc: 0.9983 - fn: 0.6585 - fp: 176.2439 - loss: 0.0328\n",
      "Epoch 16/50\n",
      "\u001B[1m40/40\u001B[0m \u001B[32m━━━━━━━━━━━━━━━━━━━━\u001B[0m\u001B[37m\u001B[0m \u001B[1m14s\u001B[0m 353ms/step - auc: 0.9977 - fn: 0.0000e+00 - fp: 193.3415 - loss: 0.0368\n",
      "Epoch 17/50\n",
      "\u001B[1m40/40\u001B[0m \u001B[32m━━━━━━━━━━━━━━━━━━━━\u001B[0m\u001B[37m\u001B[0m \u001B[1m14s\u001B[0m 348ms/step - auc: 0.9981 - fn: 0.0000e+00 - fp: 149.2927 - loss: 0.0282\n",
      "Epoch 18/50\n",
      "\u001B[1m40/40\u001B[0m \u001B[32m━━━━━━━━━━━━━━━━━━━━\u001B[0m\u001B[37m\u001B[0m \u001B[1m15s\u001B[0m 373ms/step - auc: 0.9986 - fn: 0.0000e+00 - fp: 101.4634 - loss: 0.0207\n",
      "Epoch 19/50\n",
      "\u001B[1m40/40\u001B[0m \u001B[32m━━━━━━━━━━━━━━━━━━━━\u001B[0m\u001B[37m\u001B[0m \u001B[1m14s\u001B[0m 350ms/step - auc: 0.9986 - fn: 0.0000e+00 - fp: 115.7317 - loss: 0.0231\n",
      "Epoch 20/50\n",
      "\u001B[1m40/40\u001B[0m \u001B[32m━━━━━━━━━━━━━━━━━━━━\u001B[0m\u001B[37m\u001B[0m \u001B[1m14s\u001B[0m 361ms/step - auc: 0.9987 - fn: 0.0000e+00 - fp: 91.3902 - loss: 0.0223\n",
      "Epoch 21/50\n",
      "\u001B[1m40/40\u001B[0m \u001B[32m━━━━━━━━━━━━━━━━━━━━\u001B[0m\u001B[37m\u001B[0m \u001B[1m14s\u001B[0m 360ms/step - auc: 0.9990 - fn: 0.0000e+00 - fp: 103.5610 - loss: 0.0201\n",
      "Epoch 22/50\n",
      "\u001B[1m40/40\u001B[0m \u001B[32m━━━━━━━━━━━━━━━━━━━━\u001B[0m\u001B[37m\u001B[0m \u001B[1m14s\u001B[0m 349ms/step - auc: 0.9991 - fn: 0.0000e+00 - fp: 103.8781 - loss: 0.0198\n",
      "Epoch 23/50\n",
      "\u001B[1m40/40\u001B[0m \u001B[32m━━━━━━━━━━━━━━━━━━━━\u001B[0m\u001B[37m\u001B[0m \u001B[1m15s\u001B[0m 369ms/step - auc: 0.9988 - fn: 0.0000e+00 - fp: 108.0976 - loss: 0.0219\n",
      "Epoch 24/50\n",
      "\u001B[1m40/40\u001B[0m \u001B[32m━━━━━━━━━━━━━━━━━━━━\u001B[0m\u001B[37m\u001B[0m \u001B[1m14s\u001B[0m 355ms/step - auc: 0.9990 - fn: 0.0000e+00 - fp: 110.9512 - loss: 0.0230\n",
      "Epoch 25/50\n",
      "\u001B[1m40/40\u001B[0m \u001B[32m━━━━━━━━━━━━━━━━━━━━\u001B[0m\u001B[37m\u001B[0m \u001B[1m14s\u001B[0m 349ms/step - auc: 0.9994 - fn: 0.0000e+00 - fp: 78.6341 - loss: 0.0156\n",
      "Epoch 26/50\n",
      "\u001B[1m40/40\u001B[0m \u001B[32m━━━━━━━━━━━━━━━━━━━━\u001B[0m\u001B[37m\u001B[0m \u001B[1m13s\u001B[0m 329ms/step - auc: 0.9993 - fn: 0.0000e+00 - fp: 100.0976 - loss: 0.0168\n",
      "Epoch 27/50\n",
      "\u001B[1m40/40\u001B[0m \u001B[32m━━━━━━━━━━━━━━━━━━━━\u001B[0m\u001B[37m\u001B[0m \u001B[1m13s\u001B[0m 327ms/step - auc: 0.9991 - fn: 0.0000e+00 - fp: 83.5122 - loss: 0.0175\n",
      "Epoch 28/50\n",
      "\u001B[1m40/40\u001B[0m \u001B[32m━━━━━━━━━━━━━━━━━━━━\u001B[0m\u001B[37m\u001B[0m \u001B[1m13s\u001B[0m 321ms/step - auc: 0.9992 - fn: 0.0000e+00 - fp: 55.9512 - loss: 0.0129\n",
      "Epoch 29/50\n",
      "\u001B[1m40/40\u001B[0m \u001B[32m━━━━━━━━━━━━━━━━━━━━\u001B[0m\u001B[37m\u001B[0m \u001B[1m14s\u001B[0m 341ms/step - auc: 0.9996 - fn: 0.0000e+00 - fp: 47.1951 - loss: 0.0104\n",
      "Epoch 30/50\n",
      "\u001B[1m40/40\u001B[0m \u001B[32m━━━━━━━━━━━━━━━━━━━━\u001B[0m\u001B[37m\u001B[0m \u001B[1m14s\u001B[0m 347ms/step - auc: 0.9995 - fn: 0.0000e+00 - fp: 47.0976 - loss: 0.0107\n",
      "Epoch 31/50\n",
      "\u001B[1m40/40\u001B[0m \u001B[32m━━━━━━━━━━━━━━━━━━━━\u001B[0m\u001B[37m\u001B[0m \u001B[1m13s\u001B[0m 334ms/step - auc: 0.9998 - fn: 0.0000e+00 - fp: 35.1220 - loss: 0.0071\n",
      "Epoch 32/50\n",
      "\u001B[1m40/40\u001B[0m \u001B[32m━━━━━━━━━━━━━━━━━━━━\u001B[0m\u001B[37m\u001B[0m \u001B[1m13s\u001B[0m 326ms/step - auc: 0.9995 - fn: 0.0000e+00 - fp: 46.5610 - loss: 0.0096\n",
      "Epoch 33/50\n",
      "\u001B[1m40/40\u001B[0m \u001B[32m━━━━━━━━━━━━━━━━━━━━\u001B[0m\u001B[37m\u001B[0m \u001B[1m13s\u001B[0m 328ms/step - auc: 0.9989 - fn: 1.0000 - fp: 82.9024 - loss: 0.0163\n",
      "Epoch 34/50\n",
      "\u001B[1m40/40\u001B[0m \u001B[32m━━━━━━━━━━━━━━━━━━━━\u001B[0m\u001B[37m\u001B[0m \u001B[1m14s\u001B[0m 342ms/step - auc: 0.9969 - fn: 0.5610 - fp: 132.1219 - loss: 0.0386\n",
      "Epoch 35/50\n",
      "\u001B[1m40/40\u001B[0m \u001B[32m━━━━━━━━━━━━━━━━━━━━\u001B[0m\u001B[37m\u001B[0m \u001B[1m14s\u001B[0m 339ms/step - auc: 0.9977 - fn: 0.6098 - fp: 206.3171 - loss: 0.0406\n",
      "Epoch 36/50\n",
      "\u001B[1m40/40\u001B[0m \u001B[32m━━━━━━━━━━━━━━━━━━━━\u001B[0m\u001B[37m\u001B[0m \u001B[1m13s\u001B[0m 326ms/step - auc: 0.9955 - fn: 2.3171 - fp: 311.0000 - loss: 0.0581\n",
      "Epoch 37/50\n",
      "\u001B[1m40/40\u001B[0m \u001B[32m━━━━━━━━━━━━━━━━━━━━\u001B[0m\u001B[37m\u001B[0m \u001B[1m17s\u001B[0m 413ms/step - auc: 0.9978 - fn: 0.6098 - fp: 168.7805 - loss: 0.0360\n",
      "Epoch 38/50\n",
      "\u001B[1m40/40\u001B[0m \u001B[32m━━━━━━━━━━━━━━━━━━━━\u001B[0m\u001B[37m\u001B[0m \u001B[1m12s\u001B[0m 298ms/step - auc: 0.9987 - fn: 0.8537 - fp: 123.1951 - loss: 0.0267\n",
      "Epoch 39/50\n",
      "\u001B[1m40/40\u001B[0m \u001B[32m━━━━━━━━━━━━━━━━━━━━\u001B[0m\u001B[37m\u001B[0m \u001B[1m13s\u001B[0m 316ms/step - auc: 0.9993 - fn: 0.0000e+00 - fp: 71.0000 - loss: 0.0144\n",
      "Epoch 40/50\n",
      "\u001B[1m40/40\u001B[0m \u001B[32m━━━━━━━━━━━━━━━━━━━━\u001B[0m\u001B[37m\u001B[0m \u001B[1m19s\u001B[0m 281ms/step - auc: 0.9993 - fn: 0.0000e+00 - fp: 48.4146 - loss: 0.0109\n",
      "Epoch 41/50\n",
      "\u001B[1m40/40\u001B[0m \u001B[32m━━━━━━━━━━━━━━━━━━━━\u001B[0m\u001B[37m\u001B[0m \u001B[1m11s\u001B[0m 274ms/step - auc: 0.9996 - fn: 0.0000e+00 - fp: 42.5610 - loss: 0.0094\n",
      "Epoch 42/50\n",
      "\u001B[1m40/40\u001B[0m \u001B[32m━━━━━━━━━━━━━━━━━━━━\u001B[0m\u001B[37m\u001B[0m \u001B[1m12s\u001B[0m 307ms/step - auc: 0.9994 - fn: 0.0000e+00 - fp: 34.9268 - loss: 0.0085\n",
      "Epoch 43/50\n",
      "\u001B[1m40/40\u001B[0m \u001B[32m━━━━━━━━━━━━━━━━━━━━\u001B[0m\u001B[37m\u001B[0m \u001B[1m11s\u001B[0m 275ms/step - auc: 0.9996 - fn: 0.0000e+00 - fp: 28.3902 - loss: 0.0082\n",
      "Epoch 44/50\n",
      "\u001B[1m40/40\u001B[0m \u001B[32m━━━━━━━━━━━━━━━━━━━━\u001B[0m\u001B[37m\u001B[0m \u001B[1m11s\u001B[0m 280ms/step - auc: 0.9996 - fn: 0.0000e+00 - fp: 27.6098 - loss: 0.0071\n",
      "Epoch 45/50\n",
      "\u001B[1m40/40\u001B[0m \u001B[32m━━━━━━━━━━━━━━━━━━━━\u001B[0m\u001B[37m\u001B[0m \u001B[1m12s\u001B[0m 288ms/step - auc: 0.9997 - fn: 0.0000e+00 - fp: 30.5366 - loss: 0.0078\n",
      "Epoch 46/50\n",
      "\u001B[1m40/40\u001B[0m \u001B[32m━━━━━━━━━━━━━━━━━━━━\u001B[0m\u001B[37m\u001B[0m \u001B[1m11s\u001B[0m 287ms/step - auc: 0.9997 - fn: 0.0000e+00 - fp: 24.9024 - loss: 0.0061\n",
      "Epoch 47/50\n",
      "\u001B[1m40/40\u001B[0m \u001B[32m━━━━━━━━━━━━━━━━━━━━\u001B[0m\u001B[37m\u001B[0m \u001B[1m12s\u001B[0m 288ms/step - auc: 0.9995 - fn: 0.0000e+00 - fp: 26.9268 - loss: 0.0072\n",
      "Epoch 48/50\n",
      "\u001B[1m40/40\u001B[0m \u001B[32m━━━━━━━━━━━━━━━━━━━━\u001B[0m\u001B[37m\u001B[0m \u001B[1m13s\u001B[0m 315ms/step - auc: 0.9999 - fn: 0.0000e+00 - fp: 20.8293 - loss: 0.0050\n",
      "Epoch 49/50\n",
      "\u001B[1m40/40\u001B[0m \u001B[32m━━━━━━━━━━━━━━━━━━━━\u001B[0m\u001B[37m\u001B[0m \u001B[1m12s\u001B[0m 302ms/step - auc: 0.9999 - fn: 0.0000e+00 - fp: 26.0488 - loss: 0.0056\n",
      "Epoch 50/50\n",
      "\u001B[1m40/40\u001B[0m \u001B[32m━━━━━━━━━━━━━━━━━━━━\u001B[0m\u001B[37m\u001B[0m \u001B[1m13s\u001B[0m 312ms/step - auc: 0.9999 - fn: 0.0000e+00 - fp: 24.1463 - loss: 0.0054\n"
     ]
    },
    {
     "data": {
      "text/plain": [
       "<Figure size 1000x1000 with 1 Axes>"
      ],
      "image/png": "[encoded data removed]"
     },
     "metadata": {},
     "output_type": "display_data"
    },
    {
     "data": {
      "text/plain": [
       "<Figure size 1000x1000 with 1 Axes>"
      ],
      "image/png": "[encoded data removed]"
     },
     "metadata": {},
     "output_type": "display_data"
    }
   ],
   "execution_count": 9
  },
  {
   "cell_type": "code",
   "id": "40ee5d889d09103e",
   "metadata": {
    "ExecuteTime": {
     "end_time": "2024-11-21T08:30:25.838448Z",
     "start_time": "2024-11-21T08:30:19.971767Z"
    }
   },
   "source": "model.save(\"model.keras\")",
   "outputs": [],
   "execution_count": 11
  },
  {
   "metadata": {
    "ExecuteTime": {
     "end_time": "2024-11-08T16:43:42.558319Z",
     "start_time": "2024-11-08T16:43:42.556524Z"
    }
   },
   "cell_type": "code",
   "source": "",
   "id": "96daa89b7141f37c",
   "outputs": [],
   "execution_count": null
  }
 ],
 "metadata": {
  "kernelspec": {
   "display_name": "Python 3 (ipykernel)",
   "language": "python",
   "name": "python3"
  },
  "language_info": {
   "codemirror_mode": {
    "name": "ipython",
    "version": 3
   },
   "file_extension": ".py",
   "mimetype": "text/x-python",
   "name": "python",
   "nbconvert_exporter": "python",
   "pygments_lexer": "ipython3",
   "version": "3.11.9"
  }
 },
 "nbformat": 4,
 "nbformat_minor": 5
}
